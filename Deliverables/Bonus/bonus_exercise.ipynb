{
 "cells": [
  {
   "cell_type": "code",
   "execution_count": 22,
   "metadata": {
    "ExecuteTime": {
     "end_time": "2023-11-24T13:47:28.916769500Z",
     "start_time": "2023-11-24T13:47:28.041722100Z"
    },
    "slideshow": {
     "slide_type": "skip"
    }
   },
   "outputs": [],
   "source": [
    "#Imports\n",
    "import utils\n",
    "import render\n",
    "from IPython.display import SVG # SVG capabilities for showing layouts\n",
    "from gurobipy import *\n",
    "\n",
    "%matplotlib inline"
   ]
  },
  {
   "cell_type": "markdown",
   "metadata": {
    "pycharm": {
     "name": "#%% md\n"
    }
   },
   "source": [
    "<div class=\"alert alert-block alert-danger\">\n",
    "\n",
    "<h3> DEADLINE: 22nd of December 2023 </h3>\n",
    "\n",
    "Make sure this is in your github repo. Make sure that all the answers are saved within, so that we do not have to rerun your code.\n",
    "Your code should be able to run, purely from this notebook.  There are 25P in total. The max bonus on the project grade is +0.25 for the full 25 points.\n",
    "This notebook wont be part of the exam, but the lecture on integer programming will be. Therefore this notebook could provide additional practice."
   ]
  },
  {
   "cell_type": "markdown",
   "metadata": {
    "nbpresent": {
     "id": "7b4b0dac-9cf6-4295-bc2e-50c33669f8bd"
    },
    "slideshow": {
     "slide_type": "slide"
    }
   },
   "source": [
    "# Bonus Exercise: Integer Programming for UI Optimization\n",
    "\n",
    "#### <a href=\"ait.ethz.ch/people/tlangerak\">Thomas Langerak</a> / AIT Lab, ETH Zurich\n",
    "\n",
    "This notebook provides an introduction to integer programming for formulating and solving user interface design problems. It builds on Anna Feit's work.\n",
    "\n",
    "<!--### Content\n",
    "<ol>\n",
    "<li>What is Integer Programming and why should we use it\n",
    "<li>Formulating design Problems as integer programs\n",
    "<li>The assignment problem\n",
    "<li>Variations of the assignment problem\n",
    "<li>Keyboard optimization\n",
    "<li>Branch and bound\n",
    "</ol>-->\n",
    "\n",
    "#### Primary sources\n",
    "1. Rao, S.R. Engineering Optimization: Theory and Practice. John Wiley & Sons, 2009.\n",
    "2. Wolsey, Laurence A. Integer Programming. Wiley, 1998.\n",
    "3. Andreas Karrenbauer and Antti Oulasvirta. 2014. Improvements to keyboard optimization with integer programming. In Proc. of the 27th annual ACM symposium on User interface software and technology (UIST '14). ACM\n",
    "4. Oulasvirta., A. & Karrenbauer, A. Combinatorial Optimization for Interface Design, in \"Computational Interaction\", Oxford University Press, 2018."
   ]
  },
  {
   "cell_type": "markdown",
   "metadata": {},
   "source": [
    "\n",
    "## Learning Objectives\n",
    "\n",
    "### In this unit, you will learn ...\n",
    "\n",
    "* what is integer programming and when you should use it\n",
    "* how to mathematically formulate a UI design problem as an integer program, specifically as an assignment problem\n",
    "* how to use the Gurobi solver to implement and solve integer programs\n",
    "* the principles of implicit enumeration used to solve integer programs\n",
    "\n",
    "**It  will overlap with the Combinatorial Optimization lecture.**"
   ]
  },
  {
   "cell_type": "markdown",
   "metadata": {
    "slideshow": {
     "slide_type": "slide"
    }
   },
   "source": [
    "# 1. What is Integer Programming and why should we use it\n",
    "***\n",
    "\n",
    "Integer Programming is an **exact method** for solving optimization problems. It has been applied in many disciplines to solve all kind of different problems, such as:\n",
    "-  Deciding the best schedule for airline crews, lectures, or trains\n",
    "-  Finding the best location for depots, supermarkets, or firestations\n",
    "-  Planning the schedule to produce a product with different parts at different locations, including optimal transport\n",
    "-  Minimize waste in a production process, e.g. cutting fabric to make clothes\n",
    "\n",
    "Many different areas make use of integer programming, from telecommunications to engineering, computer science, biology, economics, etc. "
   ]
  },
  {
   "cell_type": "markdown",
   "metadata": {
    "slideshow": {
     "slide_type": "slide"
    }
   },
   "source": [
    "## Exact methods give guarantees\n",
    "\n",
    "#### Guarantees to find the global optimum\n",
    "The simplest exact method is **explicit enumeration**, where the objective value of each element of the solution space is evaluated, and the current best solution -- the so-called **incumbent** -- is updated (basically brute-force). "
   ]
  },
  {
   "cell_type": "markdown",
   "metadata": {
    "slideshow": {
     "slide_type": "fragment"
    }
   },
   "source": [
    "In **implicit enumeration** relaxations are used to make the problem tractable. Relaxations are *simplifications* to a problem, obtained, for example by removing or simplifying constraints that make the problem easier to solve. Solving these simplified problems gives us a bound on the objective score of the original problem. This is used, for example, by the branch-and-bound method (discussed below) that uses these bounds to safely discard parts of the solution space."
   ]
  },
  {
   "cell_type": "markdown",
   "metadata": {
    "slideshow": {
     "slide_type": "fragment"
    }
   },
   "source": [
    "#### Guarantees on the solution quality\n",
    "The bounds obtained by the relaxation deliver us **guarantees for the quality** of the incumbent: no solution can be better than the bound. For example, if the objective value of the incumbent is only 1% away from the bound, we know it can also be at most 1% away from the global optimum. "
   ]
  },
  {
   "cell_type": "markdown",
   "metadata": {
    "slideshow": {
     "slide_type": "slide"
    }
   },
   "source": [
    "## Powerful solvers available\n",
    "\n",
    "such as <a href=\"http://www.gurobi.com/\">Gurobi</a> and <a href=\"https://www-01.ibm.com/software/commerce/optimization/cplex-optimizer/\"> CPLEX (IBM)</a>.\n",
    "\n",
    "Here we will use Gurobi.\n",
    "<ul>\n",
    "<li> Free for academic use\n",
    "<li> Solves (Mixed Integer) Linear Programs, Quadratic Programs, and Quadratically Constrained Programs\n",
    "    <li> Interfaces for <b>Python</b>, C, C++, Java, .NET, MATLAB, R, and Excel\n",
    "</ul>"
   ]
  },
  {
   "cell_type": "markdown",
   "metadata": {
    "pycharm": {
     "name": "#%% md\n"
    }
   },
   "source": [
    "<div class=\"alert alert-block alert-success\">\n",
    "\n",
    "<h3>Exercise 0: Install Dependencies</h3>\n",
    "\n",
    "**Gurobi**\n",
    "\n",
    "For Gurobi: https://www.gurobi.com/academia/academic-program-and-licenses/\n",
    "\n",
    "I am using 10.0.3: https://www.gurobi.com/downloads/gurobi-software/\n",
    "\n",
    "**others**\n",
    "<ul>\n",
    "<li> numpy: https://pypi.org/project/numpy/\n",
    "<li> matplotlib: https://pypi.org/project/matplotlib/\n",
    "<li> In principle, nothing else should be needed. If you use other dependencies, list them here. Make sure they can be installed via pip.\n",
    "</ul>"
   ]
  },
  {
   "cell_type": "markdown",
   "metadata": {
    "slideshow": {
     "slide_type": "slide"
    }
   },
   "source": [
    "## What is Integer Programing? \n",
    "\n",
    "### Recap:  Design task and space\n",
    "$\\mbox{Find } \\mathbf{x} =\n",
    "\t\\begin{pmatrix}\n",
    "\tx_1 \\\\\n",
    "\tx_2 \\\\\n",
    "\t\\vdots \\\\\n",
    "\tx_n\n",
    "\t\\end{pmatrix} \\in \\mathbf{X}\n",
    "\\mbox{ which maximizes } f(\\mathbf{x})$\n",
    "where \n",
    "* $\\mathbf{x}$ is an <b>n</b>-dimensional <b>design vector</b>,  each dimension describing a **design variable**, and\n",
    "* $\\mathbf{X}$ is **the set of designs** (all to-be-considered design vectors)."
   ]
  },
  {
   "cell_type": "markdown",
   "metadata": {
    "slideshow": {
     "slide_type": "fragment"
    }
   },
   "source": [
    "In Integer Programming, the **design variables are discrete** (integer, boolean). If one of the variables is real-valued, we speak of a mixed-integer programming problem."
   ]
  },
  {
   "cell_type": "markdown",
   "metadata": {
    "slideshow": {
     "slide_type": "slide"
    }
   },
   "source": [
    "# 2. Formulating Problems\n",
    "***\n",
    "\n",
    "The formulation of the design problem is essential for exact methods, such as Integer Programming. In operations research, the problem formulation is called the **optimization model**. Formulating the model consists of three steps: \n",
    "\n",
    "<ol>\n",
    "    <li> Define the <b>decision variables</b> and design space\n",
    "    <li> Define <b>constraints</b> that characterize the set of feasible solutions\n",
    "    <li> Define the <b>objective function</b>\n",
    "</ol>\n",
    "\n",
    "Attention: the <i>optimization</i> model in this context should not be confused with psychological models used in HCI, such as Fitts' Law or others. "
   ]
  },
  {
   "cell_type": "markdown",
   "metadata": {
    "slideshow": {
     "slide_type": "slide"
    }
   },
   "source": [
    "### 1. Decision variables\n",
    "\n",
    "The design variables $\\mathbf{x} = (x_1, \\ldots x_n)$ are also called **decision** variables.\n",
    "We can consider the design process as a set of discrete decisions, such as \n",
    "<ul>\n",
    "<li> Is the button green, blue, or red?\n",
    "<li> Does clicking the button provide auditory feedback or not? \n",
    "<li> Should it be positioned above the input field or below it?\n",
    "</ul>\n",
    "\n",
    "All possible combinations of answers constitute the space of possible designs. "
   ]
  },
  {
   "cell_type": "markdown",
   "metadata": {
    "slideshow": {
     "slide_type": "slide"
    }
   },
   "source": [
    "### 2. Constraints\n",
    "\n",
    "Constraints are restrictions on the design variables that must be satisfied to produce an acceptable design. Constraints could be\n",
    "<ul>\n",
    "<li> limitations inherent to the design problem (e.g. no entry in a menu should appear twice)\n",
    "<li> functional or semantic (e.g. if an application offers the functionality \"paste\" it must also offer \"copy\")\n",
    "<li> user or customer preferences (e.g. The companies logo must be placed on the top right of the webpage)\n",
    "<li> ...\n",
    "</ul>"
   ]
  },
  {
   "cell_type": "markdown",
   "metadata": {
    "slideshow": {
     "slide_type": "slide"
    }
   },
   "source": [
    "### 3. Objective function\n",
    "Each decision is associated with a **cost**. The objective function (or evaluation function) consists of criteria that quantify the cost of a decision or design. The goal is then to find the design vector that minimizes the objective function. (Note: minimization = maximization)\n",
    "\n",
    "Caveat: The objective function must be in **closed mathematical form** and should uonly contain linear or quadratic terms (see below)\n",
    "\n"
   ]
  },
  {
   "cell_type": "markdown",
   "metadata": {
    "slideshow": {
     "slide_type": "slide"
    }
   },
   "source": [
    "# 3. The assignment problem\n",
    "***\n",
    "<img style=\"float:right;\" src=\"imgs/assignmenr_problem.PNG\"  width=50%>\n",
    "Classical problem in combinatorial optimization, inspired by real-life scenarios.\n",
    "\n",
    "*Warning:* we will use a different metaphor here and then come back to HCI problems\n",
    "\n",
    "**Given:** \n",
    "- a number N of agents and tasks<br>\n",
    "- a cost $c_{ij}$ assigning agent i to task j \n",
    "\n",
    "|-|Task 1|Task 2|Task 3|Task 4|\n",
    "|---|-----|------|------|------|\n",
    "|**Agent 1**|$c_{11}$|$c_{12}$|$c_{13}$|$c_{14}$|\n",
    "|**Agent 2**|$c_{21}$|$c_{22}$|$c_{23}$|$c_{24}$|\n",
    "|**Agent 3**|$c_{31}$|$c_{32}$|$c_{33}$|$c_{34}$|\n",
    "|**Agent 4**|$c_{41}$|$c_{42}$|$c_{43}$|$c_{44}$|\n",
    " \n",
    "**Goal:** assign each task to exactly one agent so that the cost is minimized.\n"
   ]
  },
  {
   "cell_type": "markdown",
   "metadata": {
    "slideshow": {
     "slide_type": "slide"
    }
   },
   "source": [
    "### 1. Decision variables\n",
    "Binary decision variables: \n",
    "<img src=\"imgs/assignment_graph.PNG\" style=\"float:right\" width=30%>\n",
    "$\\mathbf{x} = (x_{11},x_{12}, ... x_{NN}), \\quad x_{ij} \\in \\{0,1\\}$ <br>\n",
    "$x_{ij} = 1$ if agent i is assigned to task j, $0$ otherwise\n",
    "\n",
    "*Note:* we can represent these decision variables as edges in a graph, where an edge is only present if a decision variable is 1. By definition of the decision variabls, edges can only go from agents to tasks. This divies the graph into two disjoint sets of nodes in between which there are not edges. Such a graph is called a *bipartite graph*. This is a fundamental observation that allows us to apply concepts and algorithms from graph theory to solve assignment problems."
   ]
  },
  {
   "cell_type": "markdown",
   "metadata": {
    "slideshow": {
     "slide_type": "slide"
    }
   },
   "source": [
    "### 2. Constraints\n",
    "<img src=\"imgs/assignment_graph2.PNG\" style=\"float:right\" width=30%>\n",
    "Each task j must be assigned to exactly 1 agent:\n",
    "$$\\sum_{i=1}^N x_{ij} = 1 \\quad \\forall j = 1 \\cdots N$$\n",
    "\n",
    "Each agent i must be assigned to exactly 1 task:\n",
    "$$\\sum_{j=1}^N x_{ij} = 1 \\quad \\forall i = 1 \\cdots N$$"
   ]
  },
  {
   "cell_type": "markdown",
   "metadata": {
    "slideshow": {
     "slide_type": "slide"
    }
   },
   "source": [
    "### 3. Objective function\n",
    "<img src=\"imgs/assignment_graph3.PNG\" style=\"float:right\" width=30%>\n",
    "Minimize the costs for assigning agents to tasks\n",
    "\n",
    "Example: 4 agents and 4 tasks<br>\n",
    "Cost for agent 1: <br>\n",
    "$$c_{11} x_{11} + c_{12} x_{12} + c_{13} x_{13} + c_{14} x_{14}  = \\sum_{j=1}^4 c_{1j} x_{1j} $$\n",
    "\n",
    "Cost for the assignment: <br>\n",
    "$$\\sum_{i=1}^N\\sum_{j=1}^N c_{ij} x_{ij}  = c_{11} x_{11} + c_{24} x_{24} + c_{33} x_{33} + c_{42} x_{42}$$\n",
    "\n",
    "Objective function: \n",
    "$$min \\sum_{i=1}^N\\sum_{j=1}^N c_{ij} x_{ij} $$\n",
    "\n",
    "*Note:* the costs are the weights of the edges in the graph. "
   ]
  },
  {
   "cell_type": "markdown",
   "metadata": {
    "slideshow": {
     "slide_type": "slide"
    }
   },
   "source": [
    "## The *linear* assignment problem: \n",
    "With this we can define the full integer program: \n",
    "$min \\sum_{i=1}^N\\sum_{j=1}^N c_{ij} x_{ij} $\n",
    "\n",
    "$\\text{subject to} \\hspace{6cm} $\n",
    "\n",
    "$\\sum_{i=1}^N x_{ij} = 1\\hspace{1cm} \\forall j = 1 .. N$\n",
    "\n",
    "$\\sum_{j=1}^N x_{ij} = 1\\hspace{1cm} \\forall i = 1 .. N$\n",
    "\n",
    "$x_{ij} \\in {0, 1} \\hspace{1.6cm} \\forall i, j = 1 .. N$\n",
    "\n",
    "The objective function and constraints contain only linear terms. Problems that can be modeled like this can be efficiently solved in polynomial time. "
   ]
  },
  {
   "cell_type": "markdown",
   "metadata": {
    "slideshow": {
     "slide_type": "fragment"
    }
   },
   "source": [
    "*Note:* The problem of assigning each agent to exactly one task, if the number of agents and tasks are the same, is the same as finding a <a href=\"https://en.wikipedia.org/wiki/Matching_(graph_theory)#In_unweighted_bipartite_graphs\">matching in a bipartite graph </a>. Formulating the problem like this allows us to make use of many standard algorithms that easily solve this problem in polynomial time. "
   ]
  },
  {
   "cell_type": "markdown",
   "metadata": {
    "slideshow": {
     "slide_type": "slide"
    }
   },
   "source": [
    "<div class=\"alert alert-block alert-success\">\n",
    "<h3> [1p] Exercise 1: Assignment problems in HCI</h3>\n",
    "Can you think of 3 examples from HCI that involve an assignment problem?"
   ]
  },
  {
   "cell_type": "markdown",
   "metadata": {
    "pycharm": {
     "name": "#%% md\n"
    }
   },
   "source": [
    "<div class=\"alert alert-block alert-danger\">\n",
    "[Answer for Exercise 1 here]\n",
    "\n",
    "-Where to put which element in a menu of a website/application (example from slides \"Computational Design\")<br>\n",
    "-Where to put which letter in a keyboard layout (example from slides \"Computational Design\")<br>\n",
    "-Where to put user interface elements in mixed reality environments (example from lecture \"Computational Design\")\n"
   ]
  },
  {
   "cell_type": "markdown",
   "metadata": {
    "slideshow": {
     "slide_type": "slide"
    }
   },
   "source": [
    "## Linear menu design\n",
    "Consider again the example of designing a linear menu:\n",
    "\n",
    "| Aspect | Content|\n",
    "|----------|------|\n",
    "| Design task | Given *n* menu items, decide their order to minimize expected selection time |\n",
    "| Design space | All possible orderings of the items (*n!* in total)  |\n",
    "| Objective function | Minimize expected selection time |\n",
    "| Task instance | Specification of elements and their relative importance |\n",
    "| Solver | **Gurobi solver for integer programming** |\n",
    "\n",
    "<img src=\"imgs/menus.png\" width=\"90%\">\n"
   ]
  },
  {
   "cell_type": "markdown",
   "metadata": {
    "slideshow": {
     "slide_type": "slide"
    }
   },
   "source": [
    "## Problem formulation: linear menu design as an assignment problem\n",
    "\n",
    "Problem: Given n menu items (and n positions in the menu), decide their positions to minimize expected selection time\n",
    "\n",
    "1. **Decision Variables:** <br>\n",
    "Binary decision variables: $\\mathbf{x} = (x_{11},x_{12}, ... x_{NN}), \\quad x_{ij} \\in \\{0,1\\}$ <br>\n",
    "$x_{ij} = 1$ if menu item $i$ is assigned to position $j$, $0$ otherwise\n",
    "2. **Constraints:** <br>\n",
    "Each position $j$ must be assigned to exactly 1 item $i$:\n",
    "$$\\sum_{i=1}^N x_{ij} = 1 \\quad \\forall j = 1 \\cdots N$$\n",
    "Each item $i$ must be assigned to exactly 1 position $j$:\n",
    "$$\\sum_{j=1}^N x_{ij} = 1 \\quad \\forall i = 1 \\cdots N$$\n",
    "3. **Objective function:**<br> \n",
    "The cost $c_{ij}$ for assigning an item i to a position j is defined by the expected time to select the item. This takes into account:\n",
    "<ul>\n",
    "    <li> the frequency of the item, $p_i$</li>\n",
    "    <li> the distance of the positiont from the top of the menu, $d_j$ </li>\n",
    "    <li> the time it takes to read a menu item, $r$</li>\n",
    "   </ul>\n",
    "This represents how <i>novice</i> users search for menu items (scanning from top to bottom) and is a simplification of the model presented by Cockburn et al. CHI 2007 \n",
    "\n",
    "<br> Thus the problem of designing a linear menu can be formulated as an integer program:\n",
    "$$min \\sum_{i=1}^N\\sum_{j=1}^N p_i \\cdot d_j \\cdot r \\cdot x_{ij} $$\n",
    "$$\\text{subject to} \\hspace{6cm} $$\n",
    "$$\\sum_{i=1}^N x_{ij} = 1\\hspace{1cm} \\forall j = 1 .. N$$\n",
    "$$\\sum_{j=1}^N x_{ij} = 1\\hspace{1cm} \\forall i = 1 .. N$$\n",
    "$$x_{ij} \\in {0, 1} \\hspace{1.6cm} \\forall i, j = 1 .. N$$"
   ]
  },
  {
   "cell_type": "markdown",
   "metadata": {
    "slideshow": {
     "slide_type": "slide"
    }
   },
   "source": [
    "## Gurobi implementation\n",
    "\n",
    "The following code example shows how to implement and solve this model with the mathematical solver Gurobi: \n",
    "<ol>\n",
    "<li> Create the (empty) model\n",
    "<li> Define decision variables\n",
    "<li> Define constraints\n",
    "<li> Define objective function\n",
    "<li> Optimize model\n",
    "<li> Extract solution\n",
    "</ol>"
   ]
  },
  {
   "cell_type": "markdown",
   "metadata": {},
   "source": [
    "<div class=\"alert alert-block alert-danger\">\n",
    "    \n",
    "    Complete code for Q2.3 below. The question is further down the notebook.\n",
    "    \n",
    " </div>\n",
    " "
   ]
  },
  {
   "cell_type": "code",
   "execution_count": 23,
   "metadata": {
    "slideshow": {
     "slide_type": "slide"
    }
   },
   "outputs": [],
   "source": [
    "## CODE BLOCK, COMPLETE FOR Q2.3. LEAVE AS IS FOR Q2.1\n",
    "\n",
    "def solve(elements, positions, frequency, distance, q=\"q2.1\"):\n",
    "    # ==== 1. Create the (empty) model ====\n",
    "    model = Model(\"linear_menu\")\n",
    "\n",
    "    # ==== 2. Add decision variables ======\n",
    "    x = {}\n",
    "    # Create one binary variable for each element-position pair. \n",
    "    # We give it a meaningful name so we later understand what it means\n",
    "    # if it is set to 1\n",
    "    for e in elements:\n",
    "        for p in positions:\n",
    "            x[(e,p)] = model.addVar(vtype=GRB.BINARY, name=\"%s_%i\"%(e,p))            \n",
    "    # Include new variables into the model\n",
    "    model.update()\n",
    "    \n",
    "    # ====3. Add Constraints ======\n",
    "    # Add constraints\n",
    "    # Each position is only assigned to one element\n",
    "    for p in positions: \n",
    "        model.addConstr(quicksum(x[(e,p)]\n",
    "                   for e in elements) == 1, \"uniqueness_constraint_%i\"%p)    \n",
    "    # Each element is only assigned to one position\n",
    "    for e in elements: \n",
    "        model.addConstr(quicksum(x[(e,p)]\n",
    "                   for p in positions) == 1, \"uniqueness_constraint_%s\"%e)\n",
    "    model.update()\n",
    "    \n",
    "    # ==== 4. Specify Objective function ======\n",
    "    reading_cost = 0.4 # assumed that scanning a single item takes 400 ms\n",
    "    \n",
    "    # Sum up the costs for mapping any element e to any position p\n",
    "    if q == \"q2.1\":\n",
    "        cost = quicksum(frequency[e] * distance[p] * reading_cost * x[(e,p)]\n",
    "                                    for e in elements\n",
    "                                       for p in positions)\n",
    "        \n",
    "    if q == \"q2.3\":\n",
    "        cost = 0\n",
    "        for k in range(len(frequency)):\n",
    "            cost += quicksum(frequency[k][e] * distance[p] * reading_cost * x[(e,p)]\n",
    "                                    for e in elements\n",
    "                                       for p in positions)\n",
    "        #[YOUR ANSWER HERE FOR Q4]\n",
    "    model.setObjective(cost,GRB.MINIMIZE)\n",
    "\n",
    "    \n",
    "    # ==== 5. Optimize model ======    \n",
    "    model.optimize()\n",
    "    \n",
    "    # ====6. Extract solution ======   \n",
    "    layout = [None]*len(elements)\n",
    "    #create the layout (ordered list of elements) from the variables \n",
    "    #that are set to 1\n",
    "    for v in model.getVars():\n",
    "        if v.x == 1:\n",
    "            element = v.varName.split(\"_\")[0]        \n",
    "            position = int(v.varName.split(\"_\")[1])\n",
    "            layout[position] = element                 \n",
    "    \n",
    "    return layout, model.getObjective().getValue(), model.Runtime\n",
    "    \n",
    "    "
   ]
  },
  {
   "cell_type": "markdown",
   "metadata": {
    "slideshow": {
     "slide_type": "slide"
    }
   },
   "source": [
    "The function above defines the general *optimization model*. It is defined so that we can optimize any linear menu. \n",
    "\n",
    "When we want to optimize a specific menu, we need to define the **task instance** we want to solve. That means we need to define the *elements* (item names) and the *positions* of the menu entries (e.g. slot numbers), as well as the factors that make up the interaction cost: the *importance* of the elements (frequency) and the *distance* from the positions to the top of the menu. \n",
    "\n",
    "Note that the time to read the name of an element is treated as a constant here and fixed in the optimization model. "
   ]
  },
  {
   "cell_type": "code",
   "execution_count": 24,
   "metadata": {
    "slideshow": {
     "slide_type": "fragment"
    }
   },
   "outputs": [],
   "source": [
    "#define elements and positions\n",
    "elements = ['Open', 'About','Quit','Help','Close',\n",
    "            'Save','Edit','Insert','Delete']\n",
    "positions = list(range(len(elements)))"
   ]
  },
  {
   "cell_type": "code",
   "execution_count": 25,
   "metadata": {
    "slideshow": {
     "slide_type": "fragment"
    }
   },
   "outputs": [],
   "source": [
    "#define cost factors\n",
    "frequency = {'Quit':0.3,'About':0.2,'Open':0.1,'Save':0.1,'Close':0.05,\n",
    "             'Help':0.02,'Edit':0.08,'Insert':0.1,'Delete':0.05}\n",
    "distance = list(map(lambda p:utils.distance(1,0,p), positions))"
   ]
  },
  {
   "cell_type": "markdown",
   "metadata": {
    "pycharm": {
     "name": "#%% md\n"
    }
   },
   "source": [
    "<div class=\"alert alert-block alert-danger\">\n",
    "\n",
    "<h3>2.1. Complete the code block below. The Exercise 2 is below.</h3>"
   ]
  },
  {
   "cell_type": "code",
   "execution_count": 26,
   "metadata": {
    "pycharm": {
     "name": "#%%\n"
    }
   },
   "outputs": [],
   "source": [
    "# INSERT ANSWER TO Q2.1\n",
    "frequency = {'Quit':0.15, 'About':0.01, 'Open':0.05, 'Save':0.3, 'Close':0.2, 'Help':0.02, 'Edit':0.15, 'Insert':0.09, 'Delete':0.03}"
   ]
  },
  {
   "cell_type": "markdown",
   "metadata": {},
   "source": [
    "We instantiate the model and solve the resulting optimization problem by calling the solve function with these parameters"
   ]
  },
  {
   "cell_type": "code",
   "execution_count": 27,
   "metadata": {
    "slideshow": {
     "slide_type": "fragment"
    }
   },
   "outputs": [
    {
     "name": "stdout",
     "output_type": "stream",
     "text": [
      "Gurobi Optimizer version 11.0.0 build v11.0.0rc2 (win64 - Windows 11.0 (22621.2))\n",
      "\n",
      "CPU model: Intel(R) Core(TM) i7-9750H CPU @ 2.60GHz, instruction set [SSE2|AVX|AVX2]\n",
      "Thread count: 6 physical cores, 12 logical processors, using up to 12 threads\n",
      "\n",
      "Optimize a model with 18 rows, 81 columns and 162 nonzeros\n",
      "Model fingerprint: 0xba895f46\n",
      "Variable types: 0 continuous, 81 integer (81 binary)\n",
      "Coefficient statistics:\n",
      "  Matrix range     [1e+00, 1e+00]\n",
      "  Objective range  [4e-03, 1e+00]\n",
      "  Bounds range     [1e+00, 1e+00]\n",
      "  RHS range        [1e+00, 1e+00]\n",
      "Found heuristic solution: objective 1.5240000\n",
      "Presolve time: 0.00s\n",
      "Presolved: 18 rows, 81 columns, 162 nonzeros\n",
      "Variable types: 0 continuous, 81 integer (81 binary)\n",
      "\n",
      "Root relaxation: objective 7.840000e-01, 35 iterations, 0.00 seconds (0.00 work units)\n",
      "\n",
      "    Nodes    |    Current Node    |     Objective Bounds      |     Work\n",
      " Expl Unexpl |  Obj  Depth IntInf | Incumbent    BestBd   Gap | It/Node Time\n",
      "\n",
      "*    0     0               0       0.7840000    0.78400  0.00%     -    0s\n",
      "\n",
      "Explored 1 nodes (35 simplex iterations) in 0.02 seconds (0.00 work units)\n",
      "Thread count was 12 (of 12 available processors)\n",
      "\n",
      "Solution count 2: 0.784 1.524 \n",
      "\n",
      "Optimal solution found (tolerance 1.00e-04)\n",
      "Best objective 7.840000000000e-01, best bound 7.840000000000e-01, gap 0.0000%\n",
      "Runtime: 0.029999971389770508\n",
      "Objective value (expected selection time): 0.784\n"
     ]
    },
    {
     "data": {
      "image/svg+xml": [
       "<svg xmlns=\"http://www.w3.org/2000/svg\" version=\"1.1\" height=\"685\" width=\"115\"><polygon fill=\"white\" stroke=\"black\" points=\"0,0 110,0 110,680 0,680\"/><polygon fill=\"white\" stroke=\"black\" points=\"5,5 105,5 105,75 5,75\"/><polygon fill=\"white\" stroke=\"black\" points=\"5,80 105,80 105,150 5,150\"/><polygon fill=\"white\" stroke=\"black\" points=\"5,155 105,155 105,225 5,225\"/><polygon fill=\"white\" stroke=\"black\" points=\"5,230 105,230 105,300 5,300\"/><polygon fill=\"white\" stroke=\"black\" points=\"5,305 105,305 105,375 5,375\"/><polygon fill=\"white\" stroke=\"black\" points=\"5,380 105,380 105,450 5,450\"/><polygon fill=\"white\" stroke=\"black\" points=\"5,455 105,455 105,525 5,525\"/><polygon fill=\"white\" stroke=\"black\" points=\"5,530 105,530 105,600 5,600\"/><polygon fill=\"white\" stroke=\"black\" points=\"5,605 105,605 105,675 5,675\"/><text x=\"55\" y=\"46\" font-size=\"25\"/><text x=\"23\" y=\"51\" font-size=\"25\">Save</text><text x=\"20\" y=\"126\" font-size=\"25\">Close</text><text x=\"23\" y=\"201\" font-size=\"25\">Quit</text><text x=\"23\" y=\"276\" font-size=\"25\">Edit</text><text x=\"18\" y=\"351\" font-size=\"25\">Insert</text><text x=\"23\" y=\"426\" font-size=\"25\">Open</text><text x=\"18\" y=\"501\" font-size=\"25\">Delete</text><text x=\"23\" y=\"576\" font-size=\"25\">Help</text><text x=\"20\" y=\"651\" font-size=\"25\">About</text></svg>"
      ],
      "text/plain": [
       "<IPython.core.display.SVG object>"
      ]
     },
     "execution_count": 27,
     "metadata": {},
     "output_type": "execute_result"
    }
   ],
   "source": [
    "#solve the problem\n",
    "layout, objective, runtime = solve(elements, positions, frequency, distance)\n",
    " \n",
    "#Print the solution\n",
    "print(\"Runtime:\", runtime)\n",
    "\n",
    "print(\"Objective value (expected selection time):\", objective)\n",
    "\n",
    "#plot the layout\n",
    "SVGlayout = render.SVGlayout(layout,1)\n",
    "SVG(SVGlayout.inSVG)"
   ]
  },
  {
   "cell_type": "markdown",
   "metadata": {
    "slideshow": {
     "slide_type": "notes"
    }
   },
   "source": [
    "Gurobi Output explained: \n",
    "\n",
    "`Optimize a model with 18 rows, 81 columns and 162 nonzeros \n",
    "Variable types: 0 continuous, 81 integer (81 binary)\n",
    "Coefficient statistics:\n",
    "  Matrix range     [1e+00, 1e+00]\n",
    "  Objective range  [8e-03, 1e+00]\n",
    "  Bounds range     [1e+00, 1e+00]\n",
    "  RHS range        [1e+00, 1e+00]`<br>\n",
    "Statistics about the to-be-solved problem: the number of constraints (rows), the decisions variables (columns) and properties about their values.\n",
    "\n",
    "`Found heuristic solution: objective 1.424\n",
    "Presolve time: 0.01s\n",
    "Presolved: 18 rows, 81 columns, 162 nonzeros\n",
    "Variable types: 0 continuous, 81 integer (81 binary)`<br>\n",
    "Objective value of a solution found via heuristics, the time to simplify (presolve) the problem and statistics of the simplified problem\n",
    "\n",
    "`Root relaxation: objective 9.240000e-01, 38 iterations, 0.00 seconds`<br>\n",
    "The objective value of the *relaxed* version of the problem. \n",
    "\n",
    "`    Nodes       |    Current Node    |     Objective Bounds      |    Work\n",
    " Expl Unexpl |  Obj  Depth IntInf | Incumbent    BestBd   Gap | It/Node Time\n",
    "   0     0               0         0.9240000    0.92400  0.00%     -    0s`<br>\n",
    "The number of explored and unexplored nodes in the enumerative tree, information about the current node, \n",
    "the objective value of the current incumbent solution, the best bound found so far, and the corresponding gap, The number of simplex iterations used per node to solve the realxation, and the time used so far for solving the problem\n",
    "\n",
    "\n",
    "`Explored 0 nodes (38 simplex iterations) in 0.05 seconds\n",
    "Thread count was 4 (of 4 available processors)`<br>\n",
    "Information about the performance. \n",
    "\n",
    "`Solution count 2: 0.924 1.424 \n",
    "Pool objective bound 0.924`<br>\n",
    "The objective values of the last X incumbent solutions and the best bound found for them. \n",
    "\n",
    "`Optimal solution found (tolerance 1.00e-04)\n",
    "Best objective 9.240000000000e-01, best bound 9.240000000000e-01, gap 0.0000%`<br>\n",
    "If an optimal solution was found, the best objective value, best bound, and corresponding gap. "
   ]
  },
  {
   "cell_type": "markdown",
   "metadata": {
    "slideshow": {
     "slide_type": "slide"
    }
   },
   "source": [
    "### Model-data separation\n",
    "Above, we have first implemented the model and then defined the concrete problem instance with elements, positions, and the corresponding cost factors.\n",
    "\n",
    "A clean separation between the optimization model and the problem data (cost values, variables, etc.) is useful because: \n",
    "<ul>\n",
    "<li> Makes it easy to switch between test data and a real system\n",
    "<li> Allows to reuse optimization models for different instances\n",
    "<li> Easily include data from different sources (database, files, generated, etc.)\n",
    "<li> Good programing practice for more flexible and easier to understand code\n",
    "</ul>"
   ]
  },
  {
   "cell_type": "markdown",
   "metadata": {
    "slideshow": {
     "slide_type": "slide"
    }
   },
   "source": [
    "<div class=\"alert alert-block alert-success\">\n",
    "<h3> [10p] Exercise 2: Trading off different tasks</h3>\n",
    "<p>Assume that you have two different user groups that use the menu in very different ways, i.e., for two different frequencies A (same as above) and B. </p>\n",
    "    \n",
    "| Element | Frequency A| Frequency B\n",
    "|----------|------|------|\n",
    "| Quit | 0.3| 0.15|\n",
    "| About |0.2|0.01|\n",
    "| Open|0.1|0.05|\n",
    "| Save|0.1|0.3|\n",
    "| Close|0.05|0.2|\n",
    "| Help|0.02|0.02|\n",
    "| Edit|0.08|0.15|\n",
    "| Insert| 0.1| 0.09 |\n",
    "| Delete | 0.05 | 0.03 |\n",
    "\n",
    "**[3p] 2.1 Use the optimization model above to optimize a menu for frequency B. How does the menu differ, compared to frequency A? Why is this?** \n",
    "\n",
    "*the code is above*\n",
    "</div>"
   ]
  },
  {
   "cell_type": "markdown",
   "metadata": {},
   "source": [
    "<div class=\"alert alert-block alert-danger\">\n",
    "\n",
    "[answer here for 2.1], THE CODE IS ABOVE. ANSWERE HERE HOW THE MENUS DIFFER.<br>\n",
    "\n",
    "### Results\n",
    "- Running the solver using frequency A yields the following solution (order of menu elements): Quit, About, Insert, Open, Save, Edit, Close, Delete, Help<br>\n",
    "- Running the solver using frequency B yields the following solution (order of menu elements): Save, Close, Quit, Edit, Insert, Open, Delete, Help, About<br>\n",
    "\n",
    "### Analysis\n",
    "- In A Quit has a frequency of 0.3 compared to 0.15 in B so it is <b>higher</b> up in the prioritization order\n",
    "- In A About has a frequency of 0.2 compared to 0.01 in B so it is <b>higher</b> up in the prioritization order\n",
    "- In A Insert has a frequency of 0.1 compared to 0.09 in B so it is <b>higher</b> up in the prioritization order\n",
    "- In A Open has a frequency of 0.1 compared to 0.05 in B so it is <b>higher</b> up in the prioritization order\n",
    "- In A Save has a frequency of 0.1 compared to 0.3 in B so it is <b>lower</b> in the prioritization order\n",
    "- In A Edit has a frequency of 0.08 compared to 0.15 in B so it is <b>lower</b> in the prioritization order\n",
    "- In A Close has a frequency of 0.05 compared to 0.2 in B so it is <b>lower</b> in the prioritization order\n",
    "- In A Delete has a frequency of 0.05 compared to 0.03 in B so it is <b>lower</b> in the prioritization order\n",
    "- In A Help has a frequency of 0.02, same as in B so it has a <b>similar</b> spot in the prioritization order (one spot lower than in B)\n",
    "\n",
    "The order of items is different in A and B. The reading time r and distance $d_{j}$ stay the same while the frequencies $p_{i}$ change. Since we try to minimize the overall cost, we want to move items with a high frequency higher up in order so they are associated with a low distance to the top. This is why for example the highest frequency items (Quit in A, Save in B) are first in the respective prioritization order.     \n",
    "\n",
    "\n",
    "</div>"
   ]
  },
  {
   "cell_type": "markdown",
   "metadata": {
    "pycharm": {
     "name": "#%% md\n"
    }
   },
   "source": [
    "<div class=\"alert alert-block alert-success\">\n",
    "\n",
    "**[2p] 2.2 Express, mathematically, the objective function above so that it finds the best design for multiple user groups\n",
    "    . Explain in a few sentences your objective.**\n",
    "</div>"
   ]
  },
  {
   "cell_type": "markdown",
   "metadata": {
    "pycharm": {
     "name": "#%% md\n"
    }
   },
   "source": [
    "<div class=\"alert alert-block alert-danger\">\n",
    "\n",
    "[answer here for 2.2], you can use latex directly into notebooks! \n",
    "\n",
    "For one user group we have the following expression from the task description: $$min \\sum_{i=1}^N\\sum_{j=1}^N p_i \\cdot d_j \\cdot r \\cdot x_{ij} $$\n",
    "\n",
    "If we have multiple user groups indexed by k=1..G, we have to parametrize \n",
    "1. the frequency additionally with the parameter k to specify which group's frequency values we use. $$p_{i} => p_{ik}$$\n",
    "2. the reading time r with the parameter k due to potentially different reading times in different groups, judging from the code this does not seem to be the case in this task though. $$r => r_{k}$$\n",
    "\n",
    "The rest stays the same and we sum the previous objective function over all groups and minimize.\n",
    "$$\\min \\sum_{k=1}^G \\sum_{i=1}^N \\sum_{j=1}^N p_{ik} \\cdot d_j \\cdot r_k \\cdot x_{ij}$$\n",
    "$$\\text{subject to} \\hspace{6cm} $$\n",
    "$$\\sum_{i=1}^N x_{ij} = 1\\hspace{1cm} \\forall j = 1 .. N$$\n",
    "$$\\sum_{j=1}^N x_{ij} = 1\\hspace{1cm} \\forall i = 1 .. N$$\n",
    "$$x_{ij} \\in {0, 1} \\hspace{1.6cm} \\forall i, j = 1 .. N$$\n",
    "\n",
    "\n",
    "</div>"
   ]
  },
  {
   "cell_type": "markdown",
   "metadata": {},
   "source": [
    "<div class=\"alert alert-block alert-success\">\n",
    "    \n",
    "**[3p] 2.3: Implement the new objective function and optimize a menu that is best for multiple groups**\n",
    "</div>"
   ]
  },
  {
   "cell_type": "markdown",
   "metadata": {},
   "source": [
    "<div class=\"alert alert-block alert-danger\">\n",
    "\n",
    "2.3. Complete the code block above (def solve(...)) Hint: the cost function needs to loop over the number of users, which can be gotten with len(frequency) . \n",
    "\n",
    "</div>\n"
   ]
  },
  {
   "cell_type": "code",
   "execution_count": 28,
   "metadata": {
    "pycharm": {
     "name": "#%%\n"
    }
   },
   "outputs": [
    {
     "name": "stdout",
     "output_type": "stream",
     "text": [
      "Gurobi Optimizer version 11.0.0 build v11.0.0rc2 (win64 - Windows 11.0 (22621.2))\n",
      "\n",
      "CPU model: Intel(R) Core(TM) i7-9750H CPU @ 2.60GHz, instruction set [SSE2|AVX|AVX2]\n",
      "Thread count: 6 physical cores, 12 logical processors, using up to 12 threads\n",
      "\n",
      "Optimize a model with 18 rows, 81 columns and 162 nonzeros\n",
      "Model fingerprint: 0xf00b2255\n",
      "Variable types: 0 continuous, 81 integer (81 binary)\n",
      "Coefficient statistics:\n",
      "  Matrix range     [1e+00, 1e+00]\n",
      "  Objective range  [2e-02, 4e+00]\n",
      "  Bounds range     [1e+00, 1e+00]\n",
      "  RHS range        [1e+00, 1e+00]\n",
      "Found heuristic solution: objective 4.9960000\n",
      "Presolve time: 0.00s\n",
      "Presolved: 18 rows, 81 columns, 162 nonzeros\n",
      "Variable types: 0 continuous, 81 integer (81 binary)\n",
      "\n",
      "Root relaxation: objective 2.556000e+00, 32 iterations, 0.00 seconds (0.00 work units)\n",
      "\n",
      "    Nodes    |    Current Node    |     Objective Bounds      |     Work\n",
      " Expl Unexpl |  Obj  Depth IntInf | Incumbent    BestBd   Gap | It/Node Time\n",
      "\n",
      "*    0     0               0       2.5560000    2.55600  0.00%     -    0s\n",
      "\n",
      "Explored 1 nodes (32 simplex iterations) in 0.02 seconds (0.00 work units)\n",
      "Thread count was 12 (of 12 available processors)\n",
      "\n",
      "Solution count 2: 2.556 4.996 \n",
      "\n",
      "Optimal solution found (tolerance 1.00e-04)\n",
      "Best objective 2.556000000000e+00, best bound 2.556000000000e+00, gap 0.0000%\n",
      "Objective value (expected selection time): 2.556\n"
     ]
    },
    {
     "data": {
      "image/svg+xml": [
       "<svg xmlns=\"http://www.w3.org/2000/svg\" version=\"1.1\" height=\"685\" width=\"115\"><polygon fill=\"white\" stroke=\"black\" points=\"0,0 110,0 110,680 0,680\"/><polygon fill=\"white\" stroke=\"black\" points=\"5,5 105,5 105,75 5,75\"/><polygon fill=\"white\" stroke=\"black\" points=\"5,80 105,80 105,150 5,150\"/><polygon fill=\"white\" stroke=\"black\" points=\"5,155 105,155 105,225 5,225\"/><polygon fill=\"white\" stroke=\"black\" points=\"5,230 105,230 105,300 5,300\"/><polygon fill=\"white\" stroke=\"black\" points=\"5,305 105,305 105,375 5,375\"/><polygon fill=\"white\" stroke=\"black\" points=\"5,380 105,380 105,450 5,450\"/><polygon fill=\"white\" stroke=\"black\" points=\"5,455 105,455 105,525 5,525\"/><polygon fill=\"white\" stroke=\"black\" points=\"5,530 105,530 105,600 5,600\"/><polygon fill=\"white\" stroke=\"black\" points=\"5,605 105,605 105,675 5,675\"/><text x=\"55\" y=\"46\" font-size=\"25\"/><text x=\"23\" y=\"51\" font-size=\"25\">Save</text><text x=\"20\" y=\"126\" font-size=\"25\">Close</text><text x=\"23\" y=\"201\" font-size=\"25\">Edit</text><text x=\"23\" y=\"276\" font-size=\"25\">Open</text><text x=\"23\" y=\"351\" font-size=\"25\">Quit</text><text x=\"18\" y=\"426\" font-size=\"25\">Insert</text><text x=\"20\" y=\"501\" font-size=\"25\">About</text><text x=\"18\" y=\"576\" font-size=\"25\">Delete</text><text x=\"23\" y=\"651\" font-size=\"25\">Help</text></svg>"
      ],
      "text/plain": [
       "<IPython.core.display.SVG object>"
      ]
     },
     "execution_count": 28,
     "metadata": {},
     "output_type": "execute_result"
    }
   ],
   "source": [
    "frequency = [{'Quit':0.05,'About':0.01,'Open':0.15,'Save':0.5,'Close':0.1,\n",
    "             'Help':0.02,'Edit':0.05,'Insert':0.03,'Delete':0.09}, \n",
    "             {'Quit':0.15,'About':0.01,'Open':0.05,'Save':0.3,'Close':0.2,\n",
    "             'Help':0.02,'Edit':0.15,'Insert':0.09,'Delete':0.03},\n",
    "            {'Quit':0.01,'About':0.15,'Open':0.05,'Save':0.3,'Close':0.2,\n",
    "             'Help':0.02,'Edit':0.15,'Insert':0.09,'Delete':0.03}]\n",
    "\n",
    "#solve the problem\n",
    "layout, objective, runtime = solve(elements, positions, frequency, distance, 'q2.3')\n",
    "\n",
    "#Print the solution\n",
    "print(\"Objective value (expected selection time):\", objective)\n",
    "\n",
    "#plot the layout\n",
    "SVGlayout = render.SVGlayout(layout,1)\n",
    "SVG(SVGlayout.inSVG)"
   ]
  },
  {
   "cell_type": "markdown",
   "metadata": {
    "pycharm": {
     "name": "#%% md\n"
    }
   },
   "source": [
    "<div class=\"alert alert-block alert-success\">\n",
    "\n",
    "**[2p] 2.4 What do you think would happen if different elements in your menu have a similar frequency?**\n",
    "\n",
    "</div>"
   ]
  },
  {
   "cell_type": "markdown",
   "metadata": {
    "pycharm": {
     "name": "#%% md\n"
    }
   },
   "source": [
    "<div class=\"alert alert-block alert-danger\">\n",
    "\n",
    "[answer for 2.4 here]\n",
    "\n",
    "We are going to assume this is referring to different elements having a similar (or the same) mean frequency. Assume for some group $k_{0}$ we have: $$p_{i_{a}k_{0}} \\sim p_{i_{b}k_{0}}$$ (in group $k_{0}$ the frequencies of item a and b are similar)<br>\n",
    "\n",
    "Then these two elements have a similar (or identical) cost associated for each j. If the costs are identical multiple global optima exist and we can choose any one. In our example we can see that \"Quit\" and \"Insert\" both have a mean frequency of 0.07. Hence their relative ordering does not matter and we can generate two solutions, one where Quit is first and one where Insert is first.\n",
    "\n",
    " \n",
    "</div>"
   ]
  },
  {
   "cell_type": "markdown",
   "metadata": {
    "slideshow": {
     "slide_type": "slide"
    }
   },
   "source": [
    "# 4. Variations of the linear assignment problem\n",
    "***\n",
    "\n",
    "## 4.1 The generalized assignment problem\n",
    "<img style=\"float:right;width=25%\" src=\"imgs/gen_assignment_problem.PNG\" >\n",
    "Allows to model <i>capacities</i> for each agent so that each agent can be assigned multiple tasks. \n",
    "\n",
    "\n",
    "Scenario: An agent $i$ can work on multiple tasks but has a work capacity $t_i$. Assigning a task $j$ to an agent yields a profit $p_{ij}$ but also has a cost $c_{ij}$. \n",
    "\n",
    "Goal: Assign each task to exactly one agent such that the overall profit is maximized and no agent works more than his capacity allows. \n"
   ]
  },
  {
   "cell_type": "markdown",
   "metadata": {},
   "source": [
    "<table style=\"width:100%;font-size:11pt;\">\n",
    "    <tr style=\"background-color:#ffffff;\">\n",
    "        <td style=\"text-align:center;\">\n",
    "            <i><b>Linear assignment problem</b></i><br><br>\n",
    "            $$min \\sum_{i=1}^N\\sum_{j=1}^N c_{ij} x_{ij} $$\n",
    "            $$\\text{subject to} \\hspace{6cm} $$\n",
    "            $$\\sum_{i=1}^N x_{ij} = 1\\hspace{1cm} \\forall j = 1 .. N$$\n",
    "            $$\\sum_{j=1}^N x_{ij} = 1\\hspace{1cm} \\forall i = 1 .. N$$\n",
    "            $$x_{ij} \\in {0, 1} \\hspace{1.6cm} \\forall i, j = 1 .. N$$\n",
    "        </td>        \n",
    "        <td style=\"text-align:center\">\n",
    "            <i><b>Generalized assignment problem</b></i><br><br>\n",
    "            $$\\color{red}{max}  \\sum_{i=1}^N\\sum_{j=1}^M \\color{red}{p_{ij}} x_{ij} $$\n",
    "            $$\\text{subject to} \\hspace{6cm} $$\n",
    "            $$\\sum_{i=1}^N x_{ij} = 1 \\hspace{1cm} \\forall j = 1 \\ldots M$$\n",
    "            $$\\color{red}{\\sum_{j=1}^n c_{ij} x_{ij} \\leq t_i \\hspace{0.55cm} \\forall i = 1 \\ldots N}$$\n",
    "            $$ x_{ij} \\in {0, 1} \\hspace{1cm} \\forall i = 1 .. N, j = 1 \\ldots M$$\n",
    "        </td>\n",
    "    </tr>\n",
    "</table>"
   ]
  },
  {
   "cell_type": "markdown",
   "metadata": {},
   "source": [
    "In contrast to the linear assignment problem, the generalized assignment problem is NP-hard and can take very long to solve. \n",
    "\n",
    "However, there are simpler variations for which there efficient algorithms have been developed. For example, in the case where there is only one agent, the generalized assignment problem corresponds to the well-known <a href=\"https://en.wikipedia.org/wiki/Knapsack_problem\">knapsack problem</a>. There the goal is to maximize the value of items you put in a backpack, without exceeding the capacity of the bag. "
   ]
  },
  {
   "cell_type": "markdown",
   "metadata": {},
   "source": [
    "## The generalized assignment problem in HCI\n",
    "\n",
    "The generalized assignment problem is a useful extension of the linear assignment problem that allows us to model a capacity, for example of a UI element, instead of enforcing a one-to-one assignment. This can be applied to all kinds of problems, for example to model \n",
    "<ul>\n",
    "    <li> the maximum size of a semantic group in a menu \n",
    "    <li> the screen space of a display or size of a GUI window    \n",
    "    <li> the cognitive capacity of a user\n",
    "</ul>\n"
   ]
  },
  {
   "cell_type": "markdown",
   "metadata": {},
   "source": [
    "### Research example: Context-aware Online Adaptation of Mixed Reality Interfaces\n",
    "[Lindlbauer, Feit, Hilliges, UIST 2019]"
   ]
  },
  {
   "cell_type": "markdown",
   "metadata": {},
   "source": [
    "Optimization-based approach (using integer programming) for MR systems to automatically control *when* applications are shown,\n",
    "*where* they should be displayed and *how* much information they should display.\n",
    "\n",
    "<img src=\"imgs/cognitive_load.png\" style=\"flot:left\">\n",
    "\n",
    "The basic optimization problem is to *maximize the utility* of the elements shown to the user which are constrained by the cognitive capacity of the user. Specifically, we estimate the user's current *cognitive load* $L_{est}$ (using the index of pupillary activity introduced by Duchowski et al., CHI 2018) and the elements potential cognitive cost. The objective function used in the paper is similar to the following knapsack problem:\n",
    "\n",
    "$$max  \\sum_{e=1}^N u_{e} x_{e} $$\n",
    "$$\\text{subject to} \\hspace{6cm} $$           \n",
    "$$L_{est} + \\sum_{e=1}^N c_{e} x_{e} \\leq L_{max} \\hspace{0.55cm} $$\n",
    "$$x_{e} \\in {0, 1} \\hspace{1.3cm} \\forall e = 1 \\ldots N $$\n"
   ]
  },
  {
   "cell_type": "markdown",
   "metadata": {},
   "source": [
    "Such an optimization-based approach would allow content creators to move from a purely manual workﬂow of content creation, where every situation has to be dealt with separately, to a ﬂexible assignment of task and applications. The system then ensures that users are displayed useful information and content at the right time, place and with the right level of detail, depending on their specific context."
   ]
  },
  {
   "cell_type": "markdown",
   "metadata": {
    "slideshow": {
     "slide_type": "slide"
    }
   },
   "source": [
    "<img src=\"imgs/quadr_ass_problem.PNG\" style=\"float:right;width:35%\">\n",
    "\n",
    "## 4.2 The quadratic assignment problem\n",
    "Allows to model relationships between the elements of the two sets. \n",
    "\n",
    "Scenario: We want to build factories across a country and have a set of locations where we can build them. We frequently need to transport goods between certain factories, thus it is important that these are close together. \n",
    "\n",
    "Goal: Assign each factory to a location so that the transport time of goods is minimal. \n",
    "\n",
    "In the linear assignment problem, we only considered costs that were independently defined for each factory-location assignment (each agent-task assignment). Here, we need to take into account the relation between two factory-location assignments. If many goods are transported from one factory to another, they should be assigned to locations that are close to each other.\n"
   ]
  },
  {
   "cell_type": "markdown",
   "metadata": {
    "slideshow": {
     "slide_type": "slide"
    }
   },
   "source": [
    "### Problem formulation\n",
    "\n",
    "<ol>\n",
    "<li> Decision varibales:\n",
    "$x_{ik} = 1$ if factory $i$ is assigned to location $k$, $0$ otherwise. \n",
    "<li> Constraints: <br>\n",
    "At each location $k$ there must be exactly one factory $i$ :\n",
    "$$\\sum_{i=1}^N x_{ik} = 1 \\quad \\forall k = 1 \\cdots N$$\n",
    "\n",
    "Each factory $i$ must be assigned to exactly one location $k$:\n",
    "$$\\sum_{k=1}^N x_{ik} = 1 \\quad \\forall i = 1 \\cdots N$$\n",
    "\n",
    "</ol>"
   ]
  },
  {
   "cell_type": "markdown",
   "metadata": {
    "slideshow": {
     "slide_type": "slide"
    }
   },
   "source": [
    "<img src=\"imgs/quadr_ass_problem2.PNG\" style=\"float:right;width:30%\">\n",
    "\n",
    "3 . Objective function: <br>\n",
    "In the example on the right, the cost for assigning factories 1 and 2 to locations 3 and 4 is: \n",
    "$$f_{12} \\cdot d_{34} \\cdot x_{13} \\cdot x_{24}$$\n",
    "To solve the optimization problem, we want to minimize this cost for all possible pairs of factories and locations. This is computed by: \n",
    "$$\\color{red}{min \\sum_{i=1}^n \\sum_{j=1}^n \\sum_{k=1}^n \\sum_{l=1}^n f_{ij} \\cdot d_{kl} \\cdot x_{ik} \\cdot x_{jl}} $$"
   ]
  },
  {
   "cell_type": "markdown",
   "metadata": {
    "slideshow": {
     "slide_type": "slide"
    }
   },
   "source": [
    "Thus, we can take into account relationships between elements of each set by simply changing the objective formulation. Overall, we get the following problem formulation: \n",
    "\n",
    "$$\\color{red}{min \\sum_{i=1}^n \\sum_{j=1}^n \\sum_{k=1}^n \\sum_{l=1}^n f_{ij} \\cdot d_{kl} \\cdot x_{ik} \\cdot x_{jl}}$$\n",
    "$$\\text{subject to} \\hspace{6cm} $$\n",
    "$$\\sum_{i=1}^N x_{ij} = 1\\hspace{1cm} \\forall j = 1 .. N$$\n",
    "$$\\sum_{j=1}^N x_{ij} = 1\\hspace{1cm} \\forall i = 1 .. N$$\n",
    "$$x_{ij} \\in {0, 1} \\hspace{1.6cm} \\forall i, j = 1 .. N$$"
   ]
  },
  {
   "cell_type": "markdown",
   "metadata": {
    "slideshow": {
     "slide_type": "slide"
    }
   },
   "source": [
    "## The quadratic assignment problem in HCI\n",
    "<img style=\"float: right;margin-left:20pt;width:50%\" src=\"imgs/amazon.PNG\">\n",
    "\n",
    "\n",
    "The quadratic assignment problem is useful if we want to model relationships between UI elements, for example with respect to:\n",
    "\n",
    "\n",
    "<ul>\n",
    "    <li> <b>User's interaction</b>, e.g. the search button is often clicked after entering text in the search field\n",
    "    <li> <b>Functional, visual, or other similarity</b>, e.g. links to different supbages are placed in a row next to each other\n",
    "    <li> <b>Aesthetics</b>, e.g. pictures are placed next to each other and vertically and horizontally aligned\n",
    "<li> etc. \n",
    "</ul>\n",
    "\n"
   ]
  },
  {
   "cell_type": "markdown",
   "metadata": {
    "slideshow": {
     "slide_type": "slide"
    }
   },
   "source": [
    "# 5. Keyboard optimization\n",
    "<img style=\"float: right; width:40%\" src=\"imgs/letter_assignment.png\" >\n",
    "\n",
    "## The letter assignment problem \n",
    "\n",
    "A prominent example of the quadratic assignment problem in HCI is the letter assignment problem: \n",
    "\n",
    "Scenario: How should we place N characters on the keys of a keyboard so that we can type fastest?\n",
    "\n",
    "For 26 letters and 26 keys there are $26! > 10^{25} $ different mappings, way to many to manually search and test for the best one. \n",
    "\n"
   ]
  },
  {
   "cell_type": "markdown",
   "metadata": {
    "slideshow": {
     "slide_type": "slide"
    }
   },
   "source": [
    "<div class=\"alert alert-block alert-success\">\n",
    "<h3> [4p] Exercise 3a: Modeling the letter assignment problem</h3>\n",
    "\n",
    "How can you model the problem of assigning characters to keyslots on a keyboard mathematically?\n",
    "<ol>\n",
    "<li> Define the decision variable (1p)\n",
    "<li> Add the necessary constraints (1p)\n",
    "<li> Formulate the objective function. (2p) \n",
    "</ol>\n",
    "Make sure to define all variable you use, also explain your answers in plain english.\n",
    "\n",
    "*Tip: consider the factory-location problem above. What does the \"flow\" between factories and the \"distance\" between locations correspond to in the keyboard case?*\n"
   ]
  },
  {
   "cell_type": "markdown",
   "metadata": {},
   "source": [
    "<div class=\"alert alert-block alert-danger\">\n",
    "\n",
    "[Answer to 3a.1]\n",
    "\n",
    "We want to assign N characters to our N keys. Decision variable: $x_{ik} = 1$ if character i is assigned to key k and $x_{ik} = 0$ otherwise.\n",
    "</div>"
   ]
  },
  {
   "cell_type": "markdown",
   "metadata": {},
   "source": [
    "<div class=\"alert alert-block alert-danger\">\n",
    "\n",
    "[Answer to 3a.2]\n",
    "\n",
    "<b>Constraint 1</b>: Each character i must be assigned to exactly one key k. $$\\sum_{k=1}^N x_{ik} = 1 \\quad \\forall i = 1 \\cdots N$$\n",
    "<b>Constraint 2</b>: Each key k must be assigned to exactly one character i. $$\\sum_{i=1}^N x_{ik} = 1 \\quad \\forall k = 1 \\cdots N$$\n",
    "\n",
    "</div>"
   ]
  },
  {
   "cell_type": "markdown",
   "metadata": {},
   "source": [
    "<div class=\"alert alert-block alert-danger\">\n",
    "\n",
    "[Answer to 3a.3]\n",
    "\n",
    "Our objective function has the basic structure of the Quadratic Assignment Problem from before. \n",
    "$${min \\sum_{i=1}^n \\sum_{j=1}^n \\sum_{k=1}^n \\sum_{l=1}^n f_{ij} \\cdot d_{kl} \\cdot x_{ik} \\cdot x_{jl}}$$\n",
    "\n",
    "Analagous to the factory example we describe:\n",
    "1. The flow between factories which in this case corresponds to \"the flow between letters\" denoted by $f_{ij}$ i.e. the probability of a character j occuring after a character i in the language of interest. This can be calculated using the Bigram probability: $f_{ij}$ = bigram_frequency(letter(i), letter(j))\n",
    "\n",
    "2. The distance between factories which in this case corresponds to the movement time it takes to move from key k to key l denoted by $d_{kl}$. This is described by Fitt's Law: $d_{kl}$ = $a$ + $b$ * $log_2$ * ($D_{kl}/W$ + $1$) where a and b are empirically found constants, $D_{kl}$ is the distance between keys k and l and $W$ is the key width.\n",
    "\n",
    "We want to minimize the sum of all costs $c_{ijkl} = f_{ij} * d_{kl}$ for all possible pairs (i,j) of letters and (k,l) of keys.\n",
    "Hence we get: $${min \\sum_{i=1}^n \\sum_{j=1}^n \\sum_{k=1}^n \\sum_{l=1}^n f_{ij} \\cdot d_{kl} \\cdot x_{ik} \\cdot x_{jl}}$$\n",
    "\n",
    "Adding our previously defined decision variables and constraints give us the whole optimization problem.\n",
    "\n",
    "\n",
    "\n",
    "</div>"
   ]
  },
  {
   "cell_type": "markdown",
   "metadata": {
    "slideshow": {
     "slide_type": "slide"
    }
   },
   "source": [
    "<div class=\"alert alert-block alert-success\">\n",
    "<h3> [5p] Exercise 3b: Optimize a 9-key- keyboard</h3>\n",
    "Implement the model in Gurobi by completing the code below. Run the code snippet afterwards to optimize a keyboard layout for the given letters.\n",
    "  \n",
    " <i> Tip: follow the example code of the linear menu problem </i>\n",
    " <i> Tip 2: It prints words per minute </i>\n",
    "</div>"
   ]
  },
  {
   "cell_type": "markdown",
   "metadata": {
    "pycharm": {
     "name": "#%% md\n"
    }
   },
   "source": [
    "<div class=\"alert alert-block alert-danger\">\n",
    "Complete the code block below.\n",
    "</div>"
   ]
  },
  {
   "cell_type": "code",
   "execution_count": 29,
   "metadata": {
    "slideshow": {
     "slide_type": "slide"
    }
   },
   "outputs": [],
   "source": [
    "# ANSWER TO Q3 B\n",
    "\n",
    "def solve(characters, keyslots, bigram_frequency, movement_time):\n",
    "    # ==== 1. Create the (empty) model ====\n",
    "    model = Model(\"keyboard\")\n",
    "    \n",
    "    # ==== 2. Add decision variables ======\n",
    "    x = {}\n",
    "        \n",
    "    for i in characters:        \n",
    "        for k in keyslots:\n",
    "             # TODO create one binary variable for each letter-key pair. [1p]\n",
    "            x[(i,k)] = model.addVar(vtype=GRB.BINARY, name=\"%s_%i\"%(i,k))\n",
    "                \n",
    "                \n",
    "    # Integrate new variables\n",
    "    model.update()    \n",
    "    \n",
    "    # ====3. Add Constraints ======\n",
    "    # Each letter is only assigned to one keyslot\n",
    "    for i in characters:\n",
    "        #TODO add a constraint for each letters [1p]\n",
    "        model.addConstr(quicksum(x[(i,k)] for k in keyslots) == 1, \"uniqueness_constraint_%s\"%i)\n",
    "\n",
    "    # Each element is only assigned to one position\n",
    "    for k in keyslots:\n",
    "        #TODO add a constraints for each keyslot [1p]\n",
    "        model.addConstr(quicksum(x[(i,k)] for i in characters) == 1, \"uniqueness_constraint_%i\"%k)\n",
    "  \n",
    "    model.update()\n",
    "    \n",
    "    # ==== 4. Specify Objective function ======        \n",
    "    # TODO: implement the objective function here [2p]     \n",
    "    cost = quicksum(bigram_frequency[(i,j)] * movement_time[(k,l)] * x[(i,k)] * x[(j,l)]\n",
    "                    for l in keyslots\n",
    "                        for k in keyslots\n",
    "                            for j in characters\n",
    "                                for i in characters )\n",
    "    model.setObjective(cost,GRB.MINIMIZE)\n",
    "    # ==== 5. Optimize model ======    \n",
    "    model.optimize()\n",
    "    \n",
    "    # ====6. Extract solution ======   \n",
    "    mapping = {}\n",
    "    \n",
    "    for v in model.getVars():\n",
    "        if v.x == 1:\n",
    "            character = v.varName.split(\"_\")[0]\n",
    "            slot = int(v.varName.split(\"_\")[1])\n",
    "            mapping[character] = slot\n",
    "            \n",
    "    return mapping, model.getObjective().getValue(), model.Runtime"
   ]
  },
  {
   "cell_type": "code",
   "execution_count": 30,
   "metadata": {
    "scrolled": true,
    "slideshow": {
     "slide_type": "slide"
    }
   },
   "outputs": [
    {
     "name": "stdout",
     "output_type": "stream",
     "text": [
      "Gurobi Optimizer version 11.0.0 build v11.0.0rc2 (win64 - Windows 11.0 (22621.2))\n",
      "\n",
      "CPU model: Intel(R) Core(TM) i7-9750H CPU @ 2.60GHz, instruction set [SSE2|AVX|AVX2]\n",
      "Thread count: 6 physical cores, 12 logical processors, using up to 12 threads\n",
      "\n",
      "Optimize a model with 18 rows, 81 columns and 162 nonzeros\n",
      "Model fingerprint: 0x549cdcb5\n",
      "Model has 3195 quadratic objective terms\n",
      "Variable types: 0 continuous, 81 integer (81 binary)\n",
      "Coefficient statistics:\n",
      "  Matrix range     [1e+00, 1e+00]\n",
      "  Objective range  [0e+00, 0e+00]\n",
      "  QObjective range [3e-06, 8e-02]\n",
      "  Bounds range     [1e+00, 1e+00]\n",
      "  RHS range        [1e+00, 1e+00]\n",
      "Found heuristic solution: objective 0.2702377\n",
      "Presolve time: 0.01s\n",
      "Presolved: 18 rows, 81 columns, 162 nonzeros\n",
      "Presolved model has 3204 quadratic objective terms\n",
      "Variable types: 0 continuous, 81 integer (81 binary)\n",
      "\n",
      "Root relaxation: objective -7.630190e-01, 103 iterations, 0.00 seconds (0.00 work units)\n",
      "\n",
      "    Nodes    |    Current Node    |     Objective Bounds      |     Work\n",
      " Expl Unexpl |  Obj  Depth IntInf | Incumbent    BestBd   Gap | It/Node Time\n",
      "\n",
      "H    0     0                       0.2603439    0.00000   100%     -    0s\n",
      "     0     0    0.00510    0   81    0.26034    0.00510  98.0%     -    0s\n",
      "H    0     0                       0.2598026    0.00510  98.0%     -    0s\n",
      "H    0     0                       0.2548911    0.00510  98.0%     -    0s\n",
      "     0     0    0.00510    0   81    0.25489    0.00510  98.0%     -    0s\n",
      "H    0     0                       0.2532760    0.00510  98.0%     -    0s\n",
      "H    0     0                       0.2467365    0.00510  97.9%     -    0s\n",
      "     0     2    0.00510    0   81    0.24674    0.00510  97.9%     -    0s\n",
      "H   39    42                       0.2458417    0.00510  97.9%   6.5    0s\n",
      "H   70    82                       0.2432514    0.00510  97.9%   5.3    0s\n",
      "H   74    82                       0.2405520    0.00510  97.9%   5.1    0s\n"
     ]
    },
    {
     "name": "stdout",
     "output_type": "stream",
     "text": [
      "\n",
      "Explored 44121 nodes (399891 simplex iterations) in 3.78 seconds (1.61 work units)\n",
      "Thread count was 12 (of 12 available processors)\n",
      "\n",
      "Solution count 9: 0.240552 0.243251 0.245842 ... 0.270238\n",
      "\n",
      "Optimal solution found (tolerance 1.00e-04)\n",
      "Best objective 2.405520327333e-01, best bound 2.405520327333e-01, gap 0.0000%\n",
      "The average WPM of the winning keyboard is 49.89\n"
     ]
    },
    {
     "data": {
      "image/png": "[encoded data removed]",
      "text/plain": [
       "<Figure size 300x300 with 1 Axes>"
      ]
     },
     "metadata": {},
     "output_type": "display_data"
    }
   ],
   "source": [
    "# DO NOT CHANGE ANYTHING BELOW HERE. This is the input data to the model.\n",
    "# If the solve function is implemented correctly, running this code will optimize a keyboard layout for 9 characters.\n",
    "# This should only take about 5 seconds\n",
    "\n",
    "characters = ['a', 'c', 's', 'r', 'e', 'q', 't', 'h', 'i']\n",
    "\n",
    "keyslots = list(range(len(characters))) \n",
    "columns = 3\n",
    "\n",
    "#obtain cost factors: movement time and bigram frequencies\n",
    "movement_time = {(s1,s2): utils.fittslawcost(s1,s2, utils.distance(columns,s1,s2)) for s1 in keyslots for s2 in keyslots}\n",
    "\n",
    "#letter pair frequency        \n",
    "bigram_frequency = utils.get_bigram_frequency(characters)\n",
    "\n",
    "#solve the problem\n",
    "mapping, objective, runtime = solve(characters, keyslots, bigram_frequency, movement_time)\n",
    "\n",
    "print(\"The average WPM of the winning keyboard is %.2f\"%utils.wpm(objective))\n",
    "render.plot_keyboard(mapping, columns)"
   ]
  },
  {
   "cell_type": "markdown",
   "metadata": {
    "pycharm": {
     "name": "#%% md\n"
    }
   },
   "source": [
    "<div class=\"alert alert-block alert-success\">\n",
    "\n",
    "<h3> [5p] Exercise 4: Optimize a n-key-keyboard</h3>\n",
    " Above we limited ourselves to 9 keys. We also already stated that this is a np-hard problem.\n",
    "This means that the complexity greatly increases with the number of keys.\n",
    "\n",
    "**[3p] 4a. Below, using a for-loop, matplotlib and the solve() function, plot the solve time for different amount of keys.**\n",
    "</div>"
   ]
  },
  {
   "cell_type": "markdown",
   "metadata": {
    "pycharm": {
     "name": "#%% md\n"
    }
   },
   "source": [
    "<div class=\"alert alert-block alert-danger\">\n",
    "\n",
    "Answer for Exercise 4a in the code block below.\n",
    "\n",
    "</div>"
   ]
  },
  {
   "cell_type": "code",
   "execution_count": 31,
   "metadata": {
    "pycharm": {
     "name": "#%%\n"
    }
   },
   "outputs": [
    {
     "name": "stdout",
     "output_type": "stream",
     "text": [
      "Gurobi Optimizer version 11.0.0 build v11.0.0rc2 (win64 - Windows 11.0 (22621.2))\n",
      "\n",
      "CPU model: Intel(R) Core(TM) i7-9750H CPU @ 2.60GHz, instruction set [SSE2|AVX|AVX2]\n",
      "Thread count: 6 physical cores, 12 logical processors, using up to 12 threads\n",
      "\n",
      "Optimize a model with 0 rows, 0 columns and 0 nonzeros\n",
      "Model fingerprint: 0xf9715da1\n",
      "Coefficient statistics:\n",
      "  Matrix range     [0e+00, 0e+00]\n",
      "  Objective range  [0e+00, 0e+00]\n",
      "  Bounds range     [0e+00, 0e+00]\n",
      "  RHS range        [0e+00, 0e+00]\n",
      "Presolve time: 0.01s\n",
      "Presolve: All rows and columns removed\n",
      "Iteration    Objective       Primal Inf.    Dual Inf.      Time\n",
      "       0    0.0000000e+00   0.000000e+00   0.000000e+00      0s\n",
      "\n",
      "Solved in 0 iterations and 0.01 seconds (0.00 work units)\n",
      "Optimal objective  0.000000000e+00\n",
      "Gurobi Optimizer version 11.0.0 build v11.0.0rc2 (win64 - Windows 11.0 (22621.2))\n",
      "\n",
      "CPU model: Intel(R) Core(TM) i7-9750H CPU @ 2.60GHz, instruction set [SSE2|AVX|AVX2]\n",
      "Thread count: 6 physical cores, 12 logical processors, using up to 12 threads\n",
      "\n",
      "Optimize a model with 2 rows, 1 columns and 2 nonzeros\n",
      "Model fingerprint: 0x9edbf467\n",
      "Model has 1 quadratic objective term\n",
      "Variable types: 0 continuous, 1 integer (1 binary)\n",
      "Coefficient statistics:\n",
      "  Matrix range     [1e+00, 1e+00]\n",
      "  Objective range  [0e+00, 0e+00]\n",
      "  QObjective range [2e-05, 2e-05]\n",
      "  Bounds range     [1e+00, 1e+00]\n",
      "  RHS range        [1e+00, 1e+00]\n",
      "Found heuristic solution: objective 0.0000078\n",
      "Presolve removed 2 rows and 1 columns\n",
      "Presolve time: 0.00s\n",
      "Presolve: All rows and columns removed\n",
      "\n",
      "Explored 0 nodes (0 simplex iterations) in 0.01 seconds (0.00 work units)\n",
      "Thread count was 1 (of 12 available processors)\n",
      "\n",
      "Solution count 1: 7.80953e-06 \n",
      "\n",
      "Optimal solution found (tolerance 1.00e-04)\n",
      "Best objective 7.809525558749e-06, best bound 7.809525558749e-06, gap 0.0000%\n",
      "Gurobi Optimizer version 11.0.0 build v11.0.0rc2 (win64 - Windows 11.0 (22621.2))\n",
      "\n",
      "CPU model: Intel(R) Core(TM) i7-9750H CPU @ 2.60GHz, instruction set [SSE2|AVX|AVX2]\n",
      "Thread count: 6 physical cores, 12 logical processors, using up to 12 threads\n",
      "\n",
      "Optimize a model with 4 rows, 4 columns and 8 nonzeros\n",
      "Model fingerprint: 0x805b351b\n",
      "Model has 10 quadratic objective terms\n",
      "Variable types: 0 continuous, 4 integer (4 binary)\n",
      "Coefficient statistics:\n",
      "  Matrix range     [1e+00, 1e+00]\n",
      "  Objective range  [0e+00, 0e+00]\n",
      "  QObjective range [2e-05, 2e-03]\n",
      "  Bounds range     [1e+00, 1e+00]\n",
      "  RHS range        [1e+00, 1e+00]\n",
      "Presolve removed 4 rows and 4 columns\n",
      "Presolve time: 0.00s\n",
      "Presolve: All rows and columns removed\n",
      "\n",
      "Explored 0 nodes (0 simplex iterations) in 0.01 seconds (0.00 work units)\n",
      "Thread count was 1 (of 12 available processors)\n",
      "\n",
      "Solution count 1: 0.000867046 \n",
      "\n",
      "Optimal solution found (tolerance 1.00e-04)\n",
      "Best objective 8.670460446943e-04, best bound 8.670460446943e-04, gap 0.0000%\n",
      "Gurobi Optimizer version 11.0.0 build v11.0.0rc2 (win64 - Windows 11.0 (22621.2))\n",
      "\n",
      "CPU model: Intel(R) Core(TM) i7-9750H CPU @ 2.60GHz, instruction set [SSE2|AVX|AVX2]\n",
      "Thread count: 6 physical cores, 12 logical processors, using up to 12 threads\n",
      "\n",
      "Optimize a model with 6 rows, 9 columns and 18 nonzeros\n",
      "Model fingerprint: 0x5e59d227\n",
      "Model has 45 quadratic objective terms\n",
      "Variable types: 0 continuous, 9 integer (9 binary)\n",
      "Coefficient statistics:\n",
      "  Matrix range     [1e+00, 1e+00]\n",
      "  Objective range  [0e+00, 0e+00]\n",
      "  QObjective range [1e-05, 7e-03]\n",
      "  Bounds range     [1e+00, 1e+00]\n",
      "  RHS range        [1e+00, 1e+00]\n",
      "Presolve time: 0.00s\n",
      "Presolved: 42 rows, 45 columns, 126 nonzeros\n",
      "Variable types: 0 continuous, 45 integer (45 binary)\n",
      "Found heuristic solution: objective 0.0043028\n",
      "Found heuristic solution: objective 0.0030929\n",
      "\n",
      "Root relaxation: objective 1.535108e-04, 7 iterations, 0.00 seconds (0.00 work units)\n",
      "\n",
      "    Nodes    |    Current Node    |     Objective Bounds      |     Work\n",
      " Expl Unexpl |  Obj  Depth IntInf | Incumbent    BestBd   Gap | It/Node Time\n",
      "\n",
      "     0     0 infeasible    0         0.00309    0.00309  0.00%     -    0s\n",
      "\n",
      "Explored 1 nodes (7 simplex iterations) in 0.03 seconds (0.00 work units)\n",
      "Thread count was 12 (of 12 available processors)\n",
      "\n",
      "Solution count 2: 0.0030929 0.00430276 \n",
      "\n",
      "Optimal solution found (tolerance 1.00e-04)\n",
      "Best objective 3.092902354022e-03, best bound 3.092902354022e-03, gap 0.0000%\n",
      "Gurobi Optimizer version 11.0.0 build v11.0.0rc2 (win64 - Windows 11.0 (22621.2))\n",
      "\n",
      "CPU model: Intel(R) Core(TM) i7-9750H CPU @ 2.60GHz, instruction set [SSE2|AVX|AVX2]\n",
      "Thread count: 6 physical cores, 12 logical processors, using up to 12 threads\n",
      "\n",
      "Optimize a model with 8 rows, 16 columns and 32 nonzeros\n",
      "Model fingerprint: 0xacedb2a2\n",
      "Model has 136 quadratic objective terms\n",
      "Variable types: 0 continuous, 16 integer (16 binary)\n",
      "Coefficient statistics:\n",
      "  Matrix range     [1e+00, 1e+00]\n",
      "  Objective range  [0e+00, 0e+00]\n",
      "  QObjective range [6e-06, 7e-03]\n",
      "  Bounds range     [1e+00, 1e+00]\n",
      "  RHS range        [1e+00, 1e+00]\n",
      "Found heuristic solution: objective 0.0061257\n",
      "Presolve time: 0.00s\n",
      "Presolved: 128 rows, 136 columns, 392 nonzeros\n",
      "Variable types: 0 continuous, 136 integer (136 binary)\n",
      "\n",
      "Root relaxation: objective 2.049380e-04, 13 iterations, 0.00 seconds (0.00 work units)\n",
      "\n",
      "    Nodes    |    Current Node    |     Objective Bounds      |     Work\n",
      " Expl Unexpl |  Obj  Depth IntInf | Incumbent    BestBd   Gap | It/Node Time\n",
      "\n",
      "     0     0    0.00020    0    8    0.00613    0.00020  96.7%     -    0s\n",
      "H    0     0                       0.0060584    0.00020  96.6%     -    0s\n",
      "H    0     0                       0.0050172    0.00020  95.9%     -    0s\n",
      "H    0     0                       0.0048542    0.00020  95.8%     -    0s\n",
      "\n",
      "Cutting planes:\n",
      "  Gomory: 1\n",
      "  MIR: 2\n",
      "  Zero half: 11\n",
      "  RLT: 24\n",
      "  BQP: 1\n",
      "\n",
      "Explored 1 nodes (13 simplex iterations) in 0.05 seconds (0.00 work units)\n",
      "Thread count was 12 (of 12 available processors)\n",
      "\n",
      "Solution count 4: 0.00485416 0.00501716 0.00605837 0.00612569 \n",
      "\n",
      "Optimal solution found (tolerance 1.00e-04)\n",
      "Best objective 4.854160377314e-03, best bound 4.854160377314e-03, gap 0.0000%\n"
     ]
    },
    {
     "name": "stdout",
     "output_type": "stream",
     "text": [
      "Gurobi Optimizer version 11.0.0 build v11.0.0rc2 (win64 - Windows 11.0 (22621.2))\n",
      "\n",
      "CPU model: Intel(R) Core(TM) i7-9750H CPU @ 2.60GHz, instruction set [SSE2|AVX|AVX2]\n",
      "Thread count: 6 physical cores, 12 logical processors, using up to 12 threads\n",
      "\n",
      "Optimize a model with 10 rows, 25 columns and 50 nonzeros\n",
      "Model fingerprint: 0xad617e6b\n",
      "Model has 325 quadratic objective terms\n",
      "Variable types: 0 continuous, 25 integer (25 binary)\n",
      "Coefficient statistics:\n",
      "  Matrix range     [1e+00, 1e+00]\n",
      "  Objective range  [0e+00, 0e+00]\n",
      "  QObjective range [6e-06, 1e-02]\n",
      "  Bounds range     [1e+00, 1e+00]\n",
      "  RHS range        [1e+00, 1e+00]\n",
      "Found heuristic solution: objective 0.0156348\n",
      "Presolve time: 0.00s\n",
      "Presolved: 310 rows, 325 columns, 950 nonzeros\n",
      "Variable types: 0 continuous, 325 integer (325 binary)\n",
      "\n",
      "Root relaxation: objective 8.956073e-04, 17 iterations, 0.00 seconds (0.00 work units)\n",
      "\n",
      "    Nodes    |    Current Node    |     Objective Bounds      |     Work\n",
      " Expl Unexpl |  Obj  Depth IntInf | Incumbent    BestBd   Gap | It/Node Time\n",
      "\n",
      "     0     0    0.00090    0   10    0.01563    0.00090  94.3%     -    0s\n",
      "H    0     0                       0.0152848    0.00090  94.1%     -    0s\n",
      "H    0     0                       0.0148641    0.00090  94.0%     -    0s\n",
      "     0     0    0.00090    0   10    0.01486    0.00090  94.0%     -    0s\n",
      "H    0     0                       0.0148630    0.00757  49.0%     -    0s\n",
      "     0     0    0.00901    0   34    0.01486    0.00901  39.4%     -    0s\n",
      "     0     0    0.00901    0   34    0.01486    0.00901  39.4%     -    0s\n",
      "     0     2    0.00901    0   34    0.01486    0.00901  39.4%     -    0s\n",
      "\n",
      "Cutting planes:\n",
      "  RLT: 129\n",
      "\n",
      "Explored 15 nodes (853 simplex iterations) in 0.16 seconds (0.05 work units)\n",
      "Thread count was 12 (of 12 available processors)\n",
      "\n",
      "Solution count 4: 0.014863 0.0148641 0.0152848 0.0156348 \n",
      "\n",
      "Optimal solution found (tolerance 1.00e-04)\n",
      "Best objective 1.486301313840e-02, best bound 1.486301313840e-02, gap 0.0000%\n",
      "Gurobi Optimizer version 11.0.0 build v11.0.0rc2 (win64 - Windows 11.0 (22621.2))\n",
      "\n",
      "CPU model: Intel(R) Core(TM) i7-9750H CPU @ 2.60GHz, instruction set [SSE2|AVX|AVX2]\n",
      "Thread count: 6 physical cores, 12 logical processors, using up to 12 threads\n",
      "\n",
      "Optimize a model with 12 rows, 36 columns and 72 nonzeros\n",
      "Model fingerprint: 0x6b96f40a\n",
      "Model has 666 quadratic objective terms\n",
      "Variable types: 0 continuous, 36 integer (36 binary)\n",
      "Coefficient statistics:\n",
      "  Matrix range     [1e+00, 1e+00]\n",
      "  Objective range  [0e+00, 0e+00]\n",
      "  QObjective range [3e-06, 1e-02]\n",
      "  Bounds range     [1e+00, 1e+00]\n",
      "  RHS range        [1e+00, 1e+00]\n",
      "Found heuristic solution: objective 0.0177000\n",
      "Presolve time: 0.00s\n",
      "Presolved: 642 rows, 666 columns, 1962 nonzeros\n",
      "Variable types: 0 continuous, 666 integer (666 binary)\n",
      "\n",
      "Root relaxation: objective 1.091957e-03, 30 iterations, 0.00 seconds (0.00 work units)\n",
      "\n",
      "    Nodes    |    Current Node    |     Objective Bounds      |     Work\n",
      " Expl Unexpl |  Obj  Depth IntInf | Incumbent    BestBd   Gap | It/Node Time\n",
      "\n",
      "     0     0    0.00109    0   12    0.01770    0.00109  93.8%     -    0s\n",
      "     0     0    0.00109    0   12    0.01770    0.00109  93.8%     -    0s\n",
      "H    0     0                       0.0169675    0.00109  93.6%     -    0s\n",
      "     0     0    0.00814    0   12    0.01697    0.00814  52.0%     -    0s\n",
      "     0     0    0.00814    0   12    0.01697    0.00814  52.0%     -    0s\n",
      "H    0     0                       0.0168315    0.00814  51.6%     -    0s\n",
      "H    0     0                       0.0167827    0.00814  51.5%     -    0s\n",
      "     0     2    0.00814    0   12    0.01678    0.00814  51.5%     -    0s\n",
      "H   39     7                       0.0167740    0.01473  12.2%  37.7    0s\n",
      "\n",
      "Cutting planes:\n",
      "  RLT: 213\n",
      "\n",
      "Explored 59 nodes (1932 simplex iterations) in 0.23 seconds (0.09 work units)\n",
      "Thread count was 12 (of 12 available processors)\n",
      "\n",
      "Solution count 5: 0.016774 0.0167827 0.0168315 ... 0.0177\n",
      "\n",
      "Optimal solution found (tolerance 1.00e-04)\n",
      "Best objective 1.677400351699e-02, best bound 1.677400351699e-02, gap 0.0000%\n",
      "Gurobi Optimizer version 11.0.0 build v11.0.0rc2 (win64 - Windows 11.0 (22621.2))\n",
      "\n",
      "CPU model: Intel(R) Core(TM) i7-9750H CPU @ 2.60GHz, instruction set [SSE2|AVX|AVX2]\n",
      "Thread count: 6 physical cores, 12 logical processors, using up to 12 threads\n",
      "\n",
      "Optimize a model with 14 rows, 49 columns and 98 nonzeros\n",
      "Model fingerprint: 0x1027bb4e\n",
      "Model has 1225 quadratic objective terms\n",
      "Variable types: 0 continuous, 49 integer (49 binary)\n",
      "Coefficient statistics:\n",
      "  Matrix range     [1e+00, 1e+00]\n",
      "  Objective range  [0e+00, 0e+00]\n",
      "  QObjective range [2e-06, 1e-02]\n",
      "  Bounds range     [1e+00, 1e+00]\n",
      "  RHS range        [1e+00, 1e+00]\n",
      "Found heuristic solution: objective 0.0212171\n",
      "Presolve time: 0.01s\n",
      "Presolved: 1190 rows, 1225 columns, 3626 nonzeros\n",
      "Variable types: 0 continuous, 1225 integer (1225 binary)\n",
      "\n",
      "Root relaxation: objective 1.126551e-03, 30 iterations, 0.00 seconds (0.00 work units)\n",
      "\n",
      "    Nodes    |    Current Node    |     Objective Bounds      |     Work\n",
      " Expl Unexpl |  Obj  Depth IntInf | Incumbent    BestBd   Gap | It/Node Time\n",
      "\n",
      "     0     0    0.00113    0   14    0.02122    0.00113  94.7%     -    0s\n",
      "H    0     0                       0.0206260    0.00113  94.5%     -    0s\n",
      "H    0     0                       0.0199523    0.00113  94.4%     -    0s\n",
      "H    0     0                       0.0196723    0.00113  94.3%     -    0s\n",
      "     0     0    0.00113    0   14    0.01967    0.00113  94.3%     -    0s\n",
      "H    0     0                       0.0195695    0.00113  94.2%     -    0s\n",
      "     0     0    0.00113    0   14    0.01957    0.00113  94.2%     -    0s\n",
      "     0     0    0.00113    0   14    0.01957    0.00113  94.2%     -    0s\n",
      "     0     2    0.00113    0   14    0.01957    0.00113  94.2%     -    0s\n",
      "H   11    14                       0.0193080    0.00113  94.2%  92.2    0s\n",
      "H   77    49                       0.0192905    0.00431  77.7%  74.3    0s\n",
      "*  146    71              17       0.0192774    0.00652  66.2%  58.1    0s\n",
      "*  335    19               4       0.0191423    0.01637  14.5%  47.5    0s\n",
      "*  402     0               4       0.0191318    0.01913  0.00%  45.5    0s\n",
      "\n",
      "Cutting planes:\n",
      "  Cover: 1\n",
      "  Inf proof: 1\n",
      "  RLT: 340\n",
      "\n",
      "Explored 403 nodes (18616 simplex iterations) in 0.73 seconds (0.52 work units)\n",
      "Thread count was 12 (of 12 available processors)\n",
      "\n",
      "Solution count 10: 0.0191318 0.0191423 0.0192774 ... 0.0212171\n",
      "\n",
      "Optimal solution found (tolerance 1.00e-04)\n",
      "Best objective 1.913181322271e-02, best bound 1.913181322271e-02, gap 0.0000%\n",
      "Gurobi Optimizer version 11.0.0 build v11.0.0rc2 (win64 - Windows 11.0 (22621.2))\n",
      "\n",
      "CPU model: Intel(R) Core(TM) i7-9750H CPU @ 2.60GHz, instruction set [SSE2|AVX|AVX2]\n",
      "Thread count: 6 physical cores, 12 logical processors, using up to 12 threads\n",
      "\n",
      "Optimize a model with 16 rows, 64 columns and 128 nonzeros\n",
      "Model fingerprint: 0x92c079e9\n",
      "Model has 2080 quadratic objective terms\n",
      "Variable types: 0 continuous, 64 integer (64 binary)\n",
      "Coefficient statistics:\n",
      "  Matrix range     [1e+00, 1e+00]\n",
      "  Objective range  [0e+00, 0e+00]\n",
      "  QObjective range [8e-07, 2e-02]\n",
      "  Bounds range     [1e+00, 1e+00]\n",
      "  RHS range        [1e+00, 1e+00]\n",
      "Found heuristic solution: objective 0.0333524\n",
      "Presolve time: 0.01s\n",
      "Presolved: 16 rows, 64 columns, 128 nonzeros\n",
      "Presolved model has 2080 quadratic objective terms\n",
      "Variable types: 0 continuous, 64 integer (64 binary)\n",
      "\n",
      "Root relaxation: objective -1.205388e-01, 80 iterations, 0.00 seconds (0.00 work units)\n",
      "\n",
      "    Nodes    |    Current Node    |     Objective Bounds      |     Work\n",
      " Expl Unexpl |  Obj  Depth IntInf | Incumbent    BestBd   Gap | It/Node Time\n",
      "\n",
      "     0     0    0.00113    0   64    0.03335    0.00113  96.6%     -    0s\n",
      "H    0     0                       0.0319415    0.00113  96.5%     -    0s\n",
      "H    0     0                       0.0304271    0.00113  96.3%     -    0s\n",
      "     0     0    0.00113    0   64    0.03043    0.00113  96.3%     -    0s\n",
      "     0     2    0.00113    0   64    0.03043    0.00113  96.3%     -    0s\n",
      "H   35    44                       0.0304209    0.00113  96.3%   3.8    0s\n",
      "H   41    44                       0.0302449    0.00113  96.3%   3.7    0s\n",
      "H   70    82                       0.0295575    0.00113  96.2%   3.6    0s\n",
      "H  132   125                       0.0294100    0.00113  96.2%   3.5    0s\n",
      "H 3717   958                       0.0293942    0.00486  83.5%   5.0    0s\n",
      "\n",
      "Explored 4834 nodes (28705 simplex iterations) in 0.85 seconds (0.38 work units)\n",
      "Thread count was 12 (of 12 available processors)\n",
      "\n",
      "Solution count 8: 0.0293942 0.02941 0.0295575 ... 0.0333524\n",
      "\n",
      "Optimal solution found (tolerance 1.00e-04)\n",
      "Best objective 2.939424914231e-02, best bound 2.939424914231e-02, gap 0.0000%\n",
      "Gurobi Optimizer version 11.0.0 build v11.0.0rc2 (win64 - Windows 11.0 (22621.2))\n",
      "\n",
      "CPU model: Intel(R) Core(TM) i7-9750H CPU @ 2.60GHz, instruction set [SSE2|AVX|AVX2]\n",
      "Thread count: 6 physical cores, 12 logical processors, using up to 12 threads\n",
      "\n",
      "Optimize a model with 18 rows, 81 columns and 162 nonzeros\n",
      "Model fingerprint: 0x9ff43c07\n",
      "Model has 3321 quadratic objective terms\n",
      "Variable types: 0 continuous, 81 integer (81 binary)\n",
      "Coefficient statistics:\n",
      "  Matrix range     [1e+00, 1e+00]\n",
      "  Objective range  [0e+00, 0e+00]\n",
      "  QObjective range [8e-07, 2e-02]\n",
      "  Bounds range     [1e+00, 1e+00]\n",
      "  RHS range        [1e+00, 1e+00]\n",
      "Found heuristic solution: objective 0.0489059\n",
      "Presolve time: 0.01s\n",
      "Presolved: 18 rows, 81 columns, 162 nonzeros\n",
      "Presolved model has 3321 quadratic objective terms\n",
      "Variable types: 0 continuous, 81 integer (81 binary)\n",
      "\n",
      "Root relaxation: objective -1.880883e-01, 99 iterations, 0.00 seconds (0.00 work units)\n",
      "\n",
      "    Nodes    |    Current Node    |     Objective Bounds      |     Work\n",
      " Expl Unexpl |  Obj  Depth IntInf | Incumbent    BestBd   Gap | It/Node Time\n",
      "\n",
      "H    0     0                       0.0464475    0.00000   100%     -    0s\n",
      "     0     0    0.00114    0   81    0.04645    0.00114  97.5%     -    0s\n",
      "H    0     0                       0.0462976    0.00114  97.5%     -    0s\n",
      "H    0     0                       0.0449439    0.00114  97.5%     -    0s\n",
      "     0     0    0.00114    0   81    0.04494    0.00114  97.5%     -    0s\n",
      "H    0     0                       0.0438932    0.00114  97.4%     -    0s\n",
      "H    0     2                       0.0437115    0.00114  97.4%     -    0s\n",
      "     0     2    0.00114    0   81    0.04371    0.00114  97.4%     -    0s\n",
      "H   31    42                       0.0436137    0.00114  97.4%   4.8    0s\n",
      "H   68    82                       0.0432831    0.00114  97.4%   4.8    0s\n",
      "H   70    82                       0.0430051    0.00114  97.4%   4.7    0s\n",
      "H  127   122                       0.0427719    0.00114  97.3%   4.3    0s\n",
      "\n",
      "Explored 32099 nodes (304958 simplex iterations) in 2.97 seconds (1.43 work units)\n",
      "Thread count was 12 (of 12 available processors)\n",
      "\n",
      "Solution count 10: 0.0427719 0.0430051 0.0432831 ... 0.0489059\n",
      "\n",
      "Optimal solution found (tolerance 1.00e-04)\n",
      "Best objective 4.277187203889e-02, best bound 4.277187203889e-02, gap 0.0000%\n",
      "Gurobi Optimizer version 11.0.0 build v11.0.0rc2 (win64 - Windows 11.0 (22621.2))\n",
      "\n",
      "CPU model: Intel(R) Core(TM) i7-9750H CPU @ 2.60GHz, instruction set [SSE2|AVX|AVX2]\n",
      "Thread count: 6 physical cores, 12 logical processors, using up to 12 threads\n",
      "\n",
      "Optimize a model with 20 rows, 100 columns and 200 nonzeros\n",
      "Model fingerprint: 0xfe85220f\n",
      "Model has 4950 quadratic objective terms\n",
      "Variable types: 0 continuous, 100 integer (100 binary)\n",
      "Coefficient statistics:\n",
      "  Matrix range     [1e+00, 1e+00]\n",
      "  Objective range  [0e+00, 0e+00]\n",
      "  QObjective range [8e-07, 2e-02]\n",
      "  Bounds range     [1e+00, 1e+00]\n",
      "  RHS range        [1e+00, 1e+00]\n",
      "Found heuristic solution: objective 0.0497052\n",
      "Presolve time: 0.02s\n",
      "Presolved: 20 rows, 100 columns, 200 nonzeros\n",
      "Presolved model has 4950 quadratic objective terms\n",
      "Variable types: 0 continuous, 100 integer (100 binary)\n",
      "\n",
      "Root relaxation: objective -2.320492e-01, 124 iterations, 0.01 seconds (0.00 work units)\n",
      "\n",
      "    Nodes    |    Current Node    |     Objective Bounds      |     Work\n",
      " Expl Unexpl |  Obj  Depth IntInf | Incumbent    BestBd   Gap | It/Node Time\n",
      "\n",
      "H    0     0                       0.0471022    0.00000   100%     -    0s\n",
      "     0     0    0.00114    0   97    0.04710    0.00114  97.6%     -    0s\n",
      "H    0     0                       0.0468860    0.00114  97.6%     -    0s\n",
      "     0     0    0.00114    0   97    0.04689    0.00114  97.6%     -    0s\n",
      "H    0     0                       0.0454156    0.00114  97.5%     -    0s\n",
      "     0     2    0.00114    0   97    0.04542    0.00114  97.5%     -    0s\n",
      "H   31    44                       0.0450362    0.00114  97.5%   5.0    0s\n",
      "H   35    44                       0.0445947    0.00114  97.4%   4.7    0s\n",
      "H   39    44                       0.0441164    0.00114  97.4%   4.5    0s\n",
      "H   67    86                       0.0440959    0.00114  97.4%   3.8    0s\n",
      "H   83    86                       0.0434618    0.00114  97.4%   3.7    0s\n",
      "H  127   158                       0.0431976    0.00114  97.4%   4.3    0s\n",
      "H34006  6937                       0.0431671    0.03771  12.6%  11.0    4s\n",
      " 36042  7051 infeasible   63         0.04317    0.03831  11.2%  10.8    5s\n",
      "*65606  1116              70       0.0431589    0.04157  3.68%   9.6    7s\n",
      "*66938     0              70       0.0431483    0.04288  0.61%   9.6    7s\n",
      "\n",
      "Cutting planes:\n",
      "  Implied bound: 14\n",
      "  MIR: 2\n",
      "\n",
      "Explored 66957 nodes (640668 simplex iterations) in 7.45 seconds (4.20 work units)\n",
      "Thread count was 12 (of 12 available processors)\n",
      "\n",
      "Solution count 10: 0.0431483 0.0431589 0.0431671 ... 0.0454156\n",
      "\n",
      "Optimal solution found (tolerance 1.00e-04)\n",
      "Best objective 4.314825077575e-02, best bound 4.314825077575e-02, gap 0.0000%\n",
      "Gurobi Optimizer version 11.0.0 build v11.0.0rc2 (win64 - Windows 11.0 (22621.2))\n",
      "\n",
      "CPU model: Intel(R) Core(TM) i7-9750H CPU @ 2.60GHz, instruction set [SSE2|AVX|AVX2]\n",
      "Thread count: 6 physical cores, 12 logical processors, using up to 12 threads\n",
      "\n",
      "Optimize a model with 22 rows, 121 columns and 242 nonzeros\n",
      "Model fingerprint: 0xd269fee0\n",
      "Model has 7260 quadratic objective terms\n",
      "Variable types: 0 continuous, 121 integer (121 binary)\n",
      "Coefficient statistics:\n",
      "  Matrix range     [1e+00, 1e+00]\n",
      "  Objective range  [0e+00, 0e+00]\n",
      "  QObjective range [8e-07, 2e-02]\n",
      "  Bounds range     [1e+00, 1e+00]\n",
      "  RHS range        [1e+00, 1e+00]\n",
      "Found heuristic solution: objective 0.0584793\n",
      "Presolve time: 0.03s\n",
      "Presolved: 22 rows, 121 columns, 242 nonzeros\n",
      "Presolved model has 7260 quadratic objective terms\n",
      "Variable types: 0 continuous, 121 integer (121 binary)\n",
      "\n",
      "Root relaxation: objective -2.873848e-01, 149 iterations, 0.01 seconds (0.01 work units)\n",
      "\n",
      "    Nodes    |    Current Node    |     Objective Bounds      |     Work\n",
      " Expl Unexpl |  Obj  Depth IntInf | Incumbent    BestBd   Gap | It/Node Time\n",
      "\n",
      "H    0     0                       0.0536035    0.00000   100%     -    0s\n",
      "     0     0    0.00114    0  117    0.05360    0.00114  97.9%     -    0s\n",
      "H    0     0                       0.0504606    0.00114  97.7%     -    0s\n",
      "     0     0    0.00114    0  117    0.05046    0.00114  97.7%     -    0s\n",
      "H    0     2                       0.0500166    0.00114  97.7%     -    0s\n",
      "     0     2    0.00114    0  117    0.05002    0.00114  97.7%     -    0s\n",
      "H   31    44                       0.0496482    0.00114  97.7%   5.3    0s\n",
      "H   35    44                       0.0479306    0.00114  97.6%   5.1    0s\n",
      "H   77    86                       0.0467244    0.00114  97.6%   3.9    0s\n",
      "H  214   234                       0.0465812    0.00114  97.6%   4.5    0s\n",
      " 23199 10290 infeasible   65         0.04658    0.03316  28.8%  13.8    5s\n",
      "*35736 13934              90       0.0464412    0.03578  23.0%  12.9    6s\n",
      "H36815 13981                       0.0464067    0.03595  22.5%  12.9    7s\n",
      "H36873 13981                       0.0464061    0.03595  22.5%  12.9    7s\n",
      "H36932 13979                       0.0464004    0.03595  22.5%  12.9    7s\n",
      "H36933 13967                       0.0463828    0.03595  22.5%  12.9    7s\n",
      " 54696 18415    0.04436   60   25    0.04638    0.03792  18.3%  12.2   10s\n",
      " 98530 25389    0.04394   75   32    0.04638    0.04137  10.8%  11.0   15s\n",
      "*142296 28504              78       0.0463759    0.04236  8.65%  10.0   18s\n",
      " 156178 28022     cutoff   69         0.04638    0.04266  8.02%   9.8   20s\n",
      " 211801 11230     cutoff   72         0.04638    0.04429  4.51%   9.6   25s\n",
      "\n",
      "Cutting planes:\n",
      "  Implied bound: 14\n",
      "  MIR: 10\n",
      "  Flow cover: 3\n",
      "\n",
      "Explored 226124 nodes (2180183 simplex iterations) in 26.19 seconds (14.00 work units)\n",
      "Thread count was 12 (of 12 available processors)\n",
      "\n",
      "Solution count 10: 0.0463759 0.0463828 0.0464004 ... 0.0496482\n",
      "\n",
      "Optimal solution found (tolerance 1.00e-04)\n",
      "Best objective 4.637592869193e-02, best bound 4.637592869193e-02, gap 0.0000%\n"
     ]
    },
    {
     "data": {
      "image/png": "[encoded data removed]",
      "text/plain": [
       "<Figure size 640x480 with 1 Axes>"
      ]
     },
     "metadata": {},
     "output_type": "display_data"
    }
   ],
   "source": [
    "import matplotlib.pyplot as plt\n",
    "solvetimes = []\n",
    "characters = ['a', 'c', 's', 'r', 'e', 'q', 't', 'h', 'i']\n",
    "\n",
    "## IMPLEMENT HERE EXERCISE 4 HERE\n",
    "## hint characters[:i] return all characters up to index i. Also take a look at the previous code block.\n",
    "\n",
    "characters = [chr(idx) for idx in range(97,123)]    # we'll do letters a to z\n",
    "keyslots = [i for i in range(len(characters))]\n",
    "bigram_frequency = utils.get_bigram_frequency(characters)\n",
    "movement_time = {(s1,s2): utils.fittslawcost(s1,s2,utils.distance(columns,s1,s2)) for s1 in keyslots for s2 in keyslots}\n",
    "\n",
    "ridx, runtime = 0, 0\n",
    "while runtime < 50:\n",
    "    _, _, runtime = solve(characters[:ridx], [i for i in range(ridx)], bigram_frequency, movement_time)\n",
    "    solvetimes.append(runtime)\n",
    "    ridx += 1\n",
    "\n",
    "plt.plot(solvetimes)\n",
    "plt.xlabel(\"number of keys N\")\n",
    "plt.ylabel(\"solve time in seconds\")\n",
    "plt.show()"
   ]
  },
  {
   "cell_type": "markdown",
   "metadata": {},
   "source": [
    "<div class=\"alert alert-block alert-success\">\n",
    "\n",
    "\n",
    "**[2p] 4b. What conclusions can you draw from these results?**\n",
    "</div>"
   ]
  },
  {
   "cell_type": "markdown",
   "metadata": {},
   "source": [
    "<div class=\"alert alert-block alert-danger\">\n",
    "\n",
    "Answer for Exercise 4b here.\n",
    "\n",
    "</div>"
   ]
  },
  {
   "cell_type": "markdown",
   "metadata": {
    "pycharm": {
     "name": "#%% md\n"
    }
   },
   "source": [
    "# 8. Conclusion\n",
    "\n",
    "Integer programming is an exact method for solving optimization problems. \n",
    "- guarantees to find the optimal solution and gives bounds on the goodnness of intermediate solutions\n",
    "- requires mathematical formulation of the problem \n",
    "- fast and easy to implement with Gurobi\n",
    "- classical \n",
    "\n",
    "The mathematical formulation is critical and key to using standard solvers efficiently. We have seen one class of classical problems - assignment problems. Many design problems in HCI can be cast as assignment problems, but there are also other problem classes in combinatorial optimization which can be useful to know about when trying to abstract a design problem. See for example <a href=\"https://en.wikipedia.org/wiki/Combinatorial_optimization#Specific_problems\">here</a>.\n",
    "\n",
    "For computationally complex optimization problems (e.g. QAPs), it can be useful to work with optimization experts, e.g. from your university. They often know a lot of \"tricks\" and might be able to reformulate your problem or know how to exploit its structure to solve it faster. "
   ]
  },
  {
   "cell_type": "markdown",
   "metadata": {},
   "source": [
    "# Links and references"
   ]
  },
  {
   "cell_type": "markdown",
   "metadata": {},
   "source": [
    "Integer Programming and Combinatorial Optimization: \n",
    "- Rao, S.R. Engineering Optimization: Theory and Practice. John Wiley & Sons, 2009.\n",
    "- Wolsey, Laurence A. Integer Programming. Wiley, 1998.\n",
    "- Oulasvirta., A. & Karrenbauer, A. <a href=\"https://www.oxfordscholarship.com/view/10.1093/oso/9780198799603.001.0001/oso-9780198799603-chapter-5\">Combinatorial Optimization for Interface Design</a>, in \"Computational Interaction\", Oxford University Press, 2018.\n",
    "\n",
    "Selected research that uses Integer Programming to solve HCI problems\n",
    "- Anna Maria Feit. 2018. <a href=\"https://aaltodoc.aalto.fi/handle/123456789/31312\"> Assignment Problems for Optimizing Text Input.</a> Doctoral Dissertation, Aalto University. \n",
    "- Andreas Karrenbauer and Antti Oulasvirta. 2014. <a href=\"http://resources.mpi-inf.mpg.de/keyboardoptimization/\">Improvements to keyboard optimization with integer programming.</a> In Proc. UIST '14. ACM\n",
    "- Seonwook Park et al. 2018 <a href=\"https://ait.ethz.ch/projects/2018/adam/\">AdaM: Adapting Multi-User Interfaces for Collaborative Environments in Real-Time</a> in Proc. CHI'18. ACM\n",
    "- David Lindlbauer, Anna Maria Feit, and Otmar Hilliges. 2019. <a href=\"https://ait.ethz.ch/projects/2019/computationalMR/downloads/computationalMR_preprint.pdf\">Context-Aware Online Adaption of Mixed Reality Interfaces</a> In Proc. UIST '19. ACM\n",
    "\n",
    "Weblinks\n",
    "- Integer Program solvers: <a href=\"https://www.gurobi.com\"> Gurobi </a> or <a href=\"https://www.ibm.com/analytics/cplex-optimizer\"> IBM's CPLEX</a> (both are free for academic use)"
   ]
  },
  {
   "cell_type": "code",
   "execution_count": null,
   "metadata": {},
   "outputs": [],
   "source": []
  }
 ],
 "metadata": {
  "anaconda-cloud": {},
  "kernelspec": {
   "display_name": "Python 3 (ipykernel)",
   "language": "python",
   "name": "python3"
  },
  "language_info": {
   "codemirror_mode": {
    "name": "ipython",
    "version": 3
   },
   "file_extension": ".py",
   "mimetype": "text/x-python",
   "name": "python",
   "nbconvert_exporter": "python",
   "pygments_lexer": "ipython3",
   "version": "3.11.2"
  },
  "nbpresent": {
   "slides": {
    "26fe7b45-6d90-49a8-8ce4-79a4cb8b4667": {
     "id": "26fe7b45-6d90-49a8-8ce4-79a4cb8b4667",
     "prev": null,
     "regions": {
      "34ecf333-f8e3-4eaf-acd6-4858aa2c94d2": {
       "attrs": {
        "height": 0.8,
        "width": 0.8,
        "x": 0.1,
        "y": 0.1
       },
       "content": {
        "cell": "23c3a77b-6dcc-430e-8b64-f5c0bbe52f24",
        "part": "whole"
       },
       "id": "34ecf333-f8e3-4eaf-acd6-4858aa2c94d2"
      }
     }
    },
    "292f5d58-6e39-4012-8a84-3570c82de17c": {
     "id": "292f5d58-6e39-4012-8a84-3570c82de17c",
     "prev": "26fe7b45-6d90-49a8-8ce4-79a4cb8b4667",
     "regions": {
      "ea7af104-550f-4033-88a4-7a8b50ba1a34": {
       "attrs": {
        "height": 1,
        "width": 1,
        "x": 0,
        "y": 0
       },
       "content": {
        "cell": "7b4b0dac-9cf6-4295-bc2e-50c33669f8bd",
        "part": "whole"
       },
       "id": "ea7af104-550f-4033-88a4-7a8b50ba1a34"
      }
     }
    },
    "a8821190-b1cc-401e-8981-2db95d4a7c53": {
     "id": "a8821190-b1cc-401e-8981-2db95d4a7c53",
     "prev": "292f5d58-6e39-4012-8a84-3570c82de17c",
     "regions": {
      "2b3603d3-5d2f-4da2-9c41-247fd9cb9967": {
       "attrs": {
        "height": 0.4,
        "width": 0.8,
        "x": 0.1,
        "y": 0.5
       },
       "content": {
        "cell": "92f3fa22-b6eb-424d-b0c4-570435fa61de",
        "part": "whole"
       },
       "id": "2b3603d3-5d2f-4da2-9c41-247fd9cb9967"
      },
      "aae6f92e-c9e9-4f78-92d8-18751fde68ae": {
       "attrs": {
        "height": 0.8,
        "width": 0.8,
        "x": 0.1,
        "y": 0.1
       },
       "content": {
        "cell": "078959e8-4fb8-40b3-9cbb-2d457c216d70",
        "part": "whole"
       },
       "id": "aae6f92e-c9e9-4f78-92d8-18751fde68ae"
      }
     }
    },
    "c3b94dc6-8856-455d-8d3a-6c1281f5c93c": {
     "id": "c3b94dc6-8856-455d-8d3a-6c1281f5c93c",
     "prev": "a8821190-b1cc-401e-8981-2db95d4a7c53",
     "regions": {
      "997a5b1d-5d19-4067-8abe-960b97443acb": {
       "attrs": {
        "height": 0.4,
        "width": 0.8,
        "x": 0.1,
        "y": 0.5
       },
       "content": {
        "cell": "2ca3fd55-e3db-402e-96c2-3a3d1ef167be",
        "part": "whole"
       },
       "id": "997a5b1d-5d19-4067-8abe-960b97443acb"
      },
      "e0628ff0-018a-4cf8-b793-7b6837007f52": {
       "attrs": {
        "height": 0.8,
        "width": 0.8,
        "x": 0.1,
        "y": 0.1
       },
       "content": {
        "cell": "0a1773f0-08ae-403a-a8bc-acf0c4239686",
        "part": "whole"
       },
       "id": "e0628ff0-018a-4cf8-b793-7b6837007f52"
      }
     }
    }
   },
   "themes": {
    "default": "9c36868f-d806-43d5-b3e6-8b4bb8dd7fb7",
    "theme": {}
   }
  }
 },
 "nbformat": 4,
 "nbformat_minor": 1
}
